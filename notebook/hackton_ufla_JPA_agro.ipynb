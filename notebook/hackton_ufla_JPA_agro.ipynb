{
  "nbformat": 4,
  "nbformat_minor": 0,
  "metadata": {
    "colab": {
      "name": "hackton_ufla_JPA_agro_final.ipynb",
      "provenance": [],
      "collapsed_sections": []
    },
    "kernelspec": {
      "display_name": "Python 3",
      "name": "python3"
    }
  },
  "cells": [
    {
      "cell_type": "markdown",
      "metadata": {
        "id": "gYi4f50sSEUz"
      },
      "source": [
        "# **1. Entendimento do negócio**\r\n",
        "\r\n",
        "\r\n",
        "## **1.1 A empresa**\r\n",
        "\r\n",
        "  A empresa JPA AGRO é uma plataforma que conecta empresas que produzem e clientes que consomem. A empresa está no mercado há mais de 10 anos e entre suas principais parcerias estão empresas de confinamentos, granjas, fábricas de ração, cooperativas, entre outros. Hoje passam pela JPA Agro mais de 140 milhões por ano e a expectativa é que esse valor chegue a 500 milhões nos próximos 10 anos.\r\n",
        "\r\n",
        "  A polpa cítrica é o “carro-chefe” da empresa. É um produto derivado da laranja e utilizado como fonte de energia na dieta de ruminantes, principalmente como substituto do milho. A principal região produtora de polpa no país é o estado de São Paulo.\r\n",
        "\r\n",
        "## **1.2 Objetivo**\r\n",
        "\r\n",
        "Realizar previsão do preço do produto polpa cítrica dos póoximos 30 dias após julho de 2019, em uma base de dados que contempla registro de vendas no período de 2014 a julho de 2019.\r\n",
        "\r\n",
        "## **1.3 Métrica de avaliação**\r\n",
        "\r\n",
        "As soluções de predição de preços de venda apresentadas serão avaliadas em termos de RMSE (Root Mean Square Error) para cada um dos próximos 30 dias úteis, a partir da última data do conjunto de dados disponibilizado.\r\n",
        "\r\n",
        "\r\n",
        "\r\n"
      ]
    },
    {
      "cell_type": "markdown",
      "metadata": {
        "id": "fjWVRKtyTsWS"
      },
      "source": [
        "# **2 Importação de bibliotecas e funções**\r\n",
        "\r\n",
        "\r\n",
        "\r\n",
        "\r\n"
      ]
    },
    {
      "cell_type": "code",
      "metadata": {
        "colab": {
          "base_uri": "https://localhost:8080/"
        },
        "id": "gbKk21PORGaz",
        "outputId": "8be00c6b-eff4-40ca-df67-14b6bdcb574f"
      },
      "source": [
        "!pip install boruta\r\n",
        "!pip install xgboost\r\n",
        "!pip install lightgbm\r\n",
        "!pip install scikit-optimize"
      ],
      "execution_count": 1,
      "outputs": [
        {
          "output_type": "stream",
          "text": [
            "Collecting boruta\n",
            "\u001b[?25l  Downloading https://files.pythonhosted.org/packages/b2/11/583f4eac99d802c79af9217e1eff56027742a69e6c866b295cce6a5a8fc2/Boruta-0.3-py3-none-any.whl (56kB)\n",
            "\r\u001b[K     |█████▉                          | 10kB 20.5MB/s eta 0:00:01\r\u001b[K     |███████████▋                    | 20kB 19.8MB/s eta 0:00:01\r\u001b[K     |█████████████████▍              | 30kB 10.8MB/s eta 0:00:01\r\u001b[K     |███████████████████████▏        | 40kB 9.6MB/s eta 0:00:01\r\u001b[K     |█████████████████████████████   | 51kB 8.0MB/s eta 0:00:01\r\u001b[K     |████████████████████████████████| 61kB 5.3MB/s \n",
            "\u001b[?25hRequirement already satisfied: scikit-learn>=0.17.1 in /usr/local/lib/python3.7/dist-packages (from boruta) (0.22.2.post1)\n",
            "Requirement already satisfied: scipy>=0.17.0 in /usr/local/lib/python3.7/dist-packages (from boruta) (1.4.1)\n",
            "Requirement already satisfied: numpy>=1.10.4 in /usr/local/lib/python3.7/dist-packages (from boruta) (1.19.5)\n",
            "Requirement already satisfied: joblib>=0.11 in /usr/local/lib/python3.7/dist-packages (from scikit-learn>=0.17.1->boruta) (1.0.1)\n",
            "Installing collected packages: boruta\n",
            "Successfully installed boruta-0.3\n",
            "Requirement already satisfied: xgboost in /usr/local/lib/python3.7/dist-packages (0.90)\n",
            "Requirement already satisfied: scipy in /usr/local/lib/python3.7/dist-packages (from xgboost) (1.4.1)\n",
            "Requirement already satisfied: numpy in /usr/local/lib/python3.7/dist-packages (from xgboost) (1.19.5)\n",
            "Requirement already satisfied: lightgbm in /usr/local/lib/python3.7/dist-packages (2.2.3)\n",
            "Requirement already satisfied: numpy in /usr/local/lib/python3.7/dist-packages (from lightgbm) (1.19.5)\n",
            "Requirement already satisfied: scikit-learn in /usr/local/lib/python3.7/dist-packages (from lightgbm) (0.22.2.post1)\n",
            "Requirement already satisfied: scipy in /usr/local/lib/python3.7/dist-packages (from lightgbm) (1.4.1)\n",
            "Requirement already satisfied: joblib>=0.11 in /usr/local/lib/python3.7/dist-packages (from scikit-learn->lightgbm) (1.0.1)\n",
            "Collecting scikit-optimize\n",
            "\u001b[?25l  Downloading https://files.pythonhosted.org/packages/8b/03/be33e89f55866065a02e515c5b319304a801a9f1027a9b311a9b1d1f8dc7/scikit_optimize-0.8.1-py2.py3-none-any.whl (101kB)\n",
            "\u001b[K     |████████████████████████████████| 102kB 6.5MB/s \n",
            "\u001b[?25hRequirement already satisfied: numpy>=1.13.3 in /usr/local/lib/python3.7/dist-packages (from scikit-optimize) (1.19.5)\n",
            "Requirement already satisfied: scikit-learn>=0.20.0 in /usr/local/lib/python3.7/dist-packages (from scikit-optimize) (0.22.2.post1)\n",
            "Requirement already satisfied: scipy>=0.19.1 in /usr/local/lib/python3.7/dist-packages (from scikit-optimize) (1.4.1)\n",
            "Requirement already satisfied: joblib>=0.11 in /usr/local/lib/python3.7/dist-packages (from scikit-optimize) (1.0.1)\n",
            "Collecting pyaml>=16.9\n",
            "  Downloading https://files.pythonhosted.org/packages/15/c4/1310a054d33abc318426a956e7d6df0df76a6ddfa9c66f6310274fb75d42/pyaml-20.4.0-py2.py3-none-any.whl\n",
            "Requirement already satisfied: PyYAML in /usr/local/lib/python3.7/dist-packages (from pyaml>=16.9->scikit-optimize) (3.13)\n",
            "Installing collected packages: pyaml, scikit-optimize\n",
            "Successfully installed pyaml-20.4.0 scikit-optimize-0.8.1\n"
          ],
          "name": "stdout"
        }
      ]
    },
    {
      "cell_type": "code",
      "metadata": {
        "id": "HGeUfAo0WHnC",
        "colab": {
          "base_uri": "https://localhost:8080/"
        },
        "outputId": "86b89ccc-408a-4a27-d39d-3027da78353e"
      },
      "source": [
        "from google.colab                    import drive   \r\n",
        "import pandas                        as pd\r\n",
        "import numpy                         as np\r\n",
        "import matplotlib.pyplot             as plt\r\n",
        "import seaborn                       as sns\r\n",
        "from boruta                          import BorutaPy\r\n",
        "from scipy.stats                     import friedmanchisquare, shapiro\r\n",
        "from sklearn.preprocessing           import MinMaxScaler, StandardScaler, RobustScaler\r\n",
        "from sklearn.metrics                 import mean_squared_error,mean_absolute_error\r\n",
        "from sklearn.ensemble                import RandomForestRegressor\r\n",
        "from sklearn.neural_network          import MLPRegressor\r\n",
        "from sklearn.linear_model            import LinearRegression\r\n",
        "from sklearn.svm                     import SVR\r\n",
        "import matplotlib.ticker             as mtick\r\n",
        "from matplotlib.ticker               import FormatStrFormatter\r\n",
        "from statsmodels.graphics.tsaplots   import plot_pacf\r\n",
        "from statsmodels.graphics.tsaplots   import plot_acf\r\n",
        "import os\r\n",
        "import joblib                        as jb\r\n",
        "from dateutil.relativedelta          import *\r\n",
        "import pdb\r\n",
        "from xgboost                         import XGBRegressor\r\n",
        "from lightgbm                        import LGBMRegressor\r\n",
        "from sklearn.model_selection         import RandomizedSearchCV\r\n",
        "import skopt\r\n",
        "\r\n",
        "%matplotlib inline"
      ],
      "execution_count": 2,
      "outputs": [
        {
          "output_type": "stream",
          "text": [
            "/usr/local/lib/python3.7/dist-packages/statsmodels/tools/_testing.py:19: FutureWarning: pandas.util.testing is deprecated. Use the functions in the public API at pandas.testing instead.\n",
            "  import pandas.util.testing as tm\n"
          ],
          "name": "stderr"
        }
      ]
    },
    {
      "cell_type": "markdown",
      "metadata": {
        "id": "MTM6hoRmWajJ"
      },
      "source": [
        "## **2.1 Funções auxiliares**"
      ]
    },
    {
      "cell_type": "code",
      "metadata": {
        "id": "yeUWP7IvWjoK"
      },
      "source": [
        "def getStatistic(df):\r\n",
        "  df_stats = pd.DataFrame()\r\n",
        "  numericos = df.select_dtypes(include=['int32','int64','float64'])\r\n",
        "  df_stats['MEDIA']     = df[numericos.columns].mean()\r\n",
        "  df_stats['MEDIANA']   = df[numericos.columns].median()\r\n",
        "  df_stats['DESVIO']    = numericos.std()\r\n",
        "  df_stats['MIN']       = numericos.min()\r\n",
        "  df_stats['MAX']       = numericos.max()\r\n",
        "  df_stats['INTERVALO'] = numericos.apply(lambda x: x.max() - x.min())\r\n",
        "  df_stats['SKEW']      = numericos.skew()\r\n",
        "  df_stats['CURTOSE']   = numericos.kurtosis()\r\n",
        "  df_stats['CV']        = numericos.std()/numericos.mean()*100\r\n",
        "\r\n",
        "  return df_stats"
      ],
      "execution_count": 3,
      "outputs": []
    },
    {
      "cell_type": "code",
      "metadata": {
        "id": "JkGdRNhTBs1E"
      },
      "source": [
        "def boxplots(df,ignore_columns=[],use_copy=True,\r\n",
        "             separador_direita=3,largura_boxplot=1):\r\n",
        "    if use_copy:\r\n",
        "        data = df.copy()\r\n",
        "    else:\r\n",
        "        data = df\r\n",
        "        \r\n",
        "    data.drop(columns=ignore_columns,inplace=True)\r\n",
        "    data_to_plot = data  \r\n",
        "    fig, ax = plt.subplots(ncols=len(data_to_plot.columns))\r\n",
        "    plt.subplots_adjust(right=separador_direita, wspace=largura_boxplot)\r\n",
        "    for i, col in enumerate(data_to_plot.columns):\r\n",
        "        sns.boxplot(y=data_to_plot[col], ax = ax[i]);   "
      ],
      "execution_count": 4,
      "outputs": []
    },
    {
      "cell_type": "code",
      "metadata": {
        "id": "ljtnafplDNI5"
      },
      "source": [
        "def plot_predict(wdf,y_pred,y_true):\r\n",
        "  dplot = wdf.copy()\r\n",
        "  plt.clf()\r\n",
        "  plt.figure(1)\r\n",
        "  fig, ax = plt.subplots(figsize=(10,6))\r\n",
        "  ax.plot(y_pred, label='Previsto')\r\n",
        "  ax.plot(y_true, label='Real')\r\n",
        "  ax.set_xlabel('Período')\r\n",
        "  ax.set_ylabel('R$')\r\n",
        "  ax.yaxis.set_major_formatter(FormatStrFormatter('%.2f'))          \r\n",
        "  ax.set_xticks(range(0,dplot.shape[0],2))\r\n",
        "  ax.set_xticklabels(dplot['negotiation_date'].loc[::2].dt.strftime('%Y-%m-%d'),rotation=90)  \r\n",
        "  ax.set_title('Previsão')\r\n",
        "  ax.legend()\r\n"
      ],
      "execution_count": 5,
      "outputs": []
    },
    {
      "cell_type": "code",
      "metadata": {
        "id": "LEQyoKcQpNqk"
      },
      "source": [
        "def mean_percentage_error(y_true,y_pred):\r\n",
        "  return np.mean((y_true-y_pred)/ytrue)\r\n",
        "\r\n",
        "def mean_absolute_percentage_error(y_true,y_pred):\r\n",
        "  return np.mean( np.abs( (y_true-y_pred)/y_true ))\r\n",
        "\r\n",
        "def error_metrics(model_name,y_true,y_pred):\r\n",
        "  mae = mean_absolute_error(y_true,y_pred)\r\n",
        "  rmse = mean_squared_error(y_true,y_pred,squared=False)\r\n",
        "  mape = mean_absolute_percentage_error(y_true,y_pred)\r\n",
        " \r\n",
        "  \r\n",
        "  return pd.DataFrame({'model_name': model_name,                       \r\n",
        "                       'MAE' :  mae,\r\n",
        "                       'MAPE': mape,\r\n",
        "                       'RMSE': rmse\r\n",
        "                      }, index=[0])"
      ],
      "execution_count": 6,
      "outputs": []
    },
    {
      "cell_type": "markdown",
      "metadata": {
        "id": "gfJ-OYM-Wxk6"
      },
      "source": [
        "# **3 CARREGAMENTO E DESCRIÇÃO DOS DADOS**"
      ]
    },
    {
      "cell_type": "code",
      "metadata": {
        "colab": {
          "base_uri": "https://localhost:8080/"
        },
        "id": "NLFtoBySWm1Q",
        "outputId": "e2dc75ba-88ee-4288-c48b-d463f74e1f85"
      },
      "source": [
        "drive.mount('/gdrive')\r\n",
        "path = '/gdrive/My Drive/DataSets/hackathon/'\r\n",
        "os.chdir(path)"
      ],
      "execution_count": 7,
      "outputs": [
        {
          "output_type": "stream",
          "text": [
            "Mounted at /gdrive\n"
          ],
          "name": "stdout"
        }
      ]
    },
    {
      "cell_type": "code",
      "metadata": {
        "colab": {
          "base_uri": "https://localhost:8080/",
          "height": 35
        },
        "id": "--wV79pArpgU",
        "outputId": "364b4c8d-75c7-4ba6-cebc-a4e88876d71f"
      },
      "source": [
        "os.getcwd()"
      ],
      "execution_count": 8,
      "outputs": [
        {
          "output_type": "execute_result",
          "data": {
            "application/vnd.google.colaboratory.intrinsic+json": {
              "type": "string"
            },
            "text/plain": [
              "'/gdrive/My Drive/DataSets/hackathon'"
            ]
          },
          "metadata": {
            "tags": []
          },
          "execution_count": 8
        }
      ]
    },
    {
      "cell_type": "code",
      "metadata": {
        "id": "jEIVo7oYt5gn"
      },
      "source": [
        "df = pd.read_csv('https://github.com/dsrg-icet/hackathon_JPAAgro/blob/main/dataset/dataset_train.csv?raw=True',parse_dates=['negotiation_date'],dayfirst=True)"
      ],
      "execution_count": 9,
      "outputs": []
    },
    {
      "cell_type": "code",
      "metadata": {
        "colab": {
          "base_uri": "https://localhost:8080/",
          "height": 204
        },
        "id": "W0pxA1IZvHFs",
        "outputId": "c94286b3-5635-427e-aae7-2b4a67bdc08d"
      },
      "source": [
        "df.head()"
      ],
      "execution_count": 10,
      "outputs": [
        {
          "output_type": "execute_result",
          "data": {
            "text/html": [
              "<div>\n",
              "<style scoped>\n",
              "    .dataframe tbody tr th:only-of-type {\n",
              "        vertical-align: middle;\n",
              "    }\n",
              "\n",
              "    .dataframe tbody tr th {\n",
              "        vertical-align: top;\n",
              "    }\n",
              "\n",
              "    .dataframe thead th {\n",
              "        text-align: right;\n",
              "    }\n",
              "</style>\n",
              "<table border=\"1\" class=\"dataframe\">\n",
              "  <thead>\n",
              "    <tr style=\"text-align: right;\">\n",
              "      <th></th>\n",
              "      <th>negotiation_date</th>\n",
              "      <th>sold_price</th>\n",
              "      <th>product</th>\n",
              "    </tr>\n",
              "  </thead>\n",
              "  <tbody>\n",
              "    <tr>\n",
              "      <th>0</th>\n",
              "      <td>2014-01-07</td>\n",
              "      <td>308.33</td>\n",
              "      <td>Polpa Cítrica</td>\n",
              "    </tr>\n",
              "    <tr>\n",
              "      <th>1</th>\n",
              "      <td>2014-01-08</td>\n",
              "      <td>300.67</td>\n",
              "      <td>Polpa Cítrica</td>\n",
              "    </tr>\n",
              "    <tr>\n",
              "      <th>2</th>\n",
              "      <td>2014-01-09</td>\n",
              "      <td>295.00</td>\n",
              "      <td>Polpa Cítrica</td>\n",
              "    </tr>\n",
              "    <tr>\n",
              "      <th>3</th>\n",
              "      <td>2014-01-10</td>\n",
              "      <td>324.00</td>\n",
              "      <td>Polpa Cítrica</td>\n",
              "    </tr>\n",
              "    <tr>\n",
              "      <th>4</th>\n",
              "      <td>2014-01-11</td>\n",
              "      <td>250.71</td>\n",
              "      <td>Polpa Cítrica</td>\n",
              "    </tr>\n",
              "  </tbody>\n",
              "</table>\n",
              "</div>"
            ],
            "text/plain": [
              "  negotiation_date  sold_price        product\n",
              "0       2014-01-07      308.33  Polpa Cítrica\n",
              "1       2014-01-08      300.67  Polpa Cítrica\n",
              "2       2014-01-09      295.00  Polpa Cítrica\n",
              "3       2014-01-10      324.00  Polpa Cítrica\n",
              "4       2014-01-11      250.71  Polpa Cítrica"
            ]
          },
          "metadata": {
            "tags": []
          },
          "execution_count": 10
        }
      ]
    },
    {
      "cell_type": "code",
      "metadata": {
        "colab": {
          "base_uri": "https://localhost:8080/",
          "height": 49
        },
        "id": "30dDTV4Ka6dj",
        "outputId": "5faf3053-d440-4724-b36d-7449aa6cb76e"
      },
      "source": [
        "df[df.duplicated()]"
      ],
      "execution_count": 11,
      "outputs": [
        {
          "output_type": "execute_result",
          "data": {
            "text/html": [
              "<div>\n",
              "<style scoped>\n",
              "    .dataframe tbody tr th:only-of-type {\n",
              "        vertical-align: middle;\n",
              "    }\n",
              "\n",
              "    .dataframe tbody tr th {\n",
              "        vertical-align: top;\n",
              "    }\n",
              "\n",
              "    .dataframe thead th {\n",
              "        text-align: right;\n",
              "    }\n",
              "</style>\n",
              "<table border=\"1\" class=\"dataframe\">\n",
              "  <thead>\n",
              "    <tr style=\"text-align: right;\">\n",
              "      <th></th>\n",
              "      <th>negotiation_date</th>\n",
              "      <th>sold_price</th>\n",
              "      <th>product</th>\n",
              "    </tr>\n",
              "  </thead>\n",
              "  <tbody>\n",
              "  </tbody>\n",
              "</table>\n",
              "</div>"
            ],
            "text/plain": [
              "Empty DataFrame\n",
              "Columns: [negotiation_date, sold_price, product]\n",
              "Index: []"
            ]
          },
          "metadata": {
            "tags": []
          },
          "execution_count": 11
        }
      ]
    },
    {
      "cell_type": "markdown",
      "metadata": {
        "id": "pTBtYODvXLey"
      },
      "source": [
        "# **3.1 Dicionário dos dados**"
      ]
    },
    {
      "cell_type": "markdown",
      "metadata": {
        "id": "ONrUrDvDXgSZ"
      },
      "source": [
        "\r\n",
        "\r\n",
        "*   **product**: produto comercializado (valor constante igual 'Polpa Cítrica'.\r\n",
        "*   **negotiation_date**: data do faturamento do produto\r\n",
        "*   **sold_price**: preço de venda do produto (variável a ser predita)\r\n",
        "\r\n"
      ]
    },
    {
      "cell_type": "markdown",
      "metadata": {
        "id": "JCyu3Cy4X4Sl"
      },
      "source": [
        "## **3.2 Dimensão dos dados**"
      ]
    },
    {
      "cell_type": "code",
      "metadata": {
        "colab": {
          "base_uri": "https://localhost:8080/"
        },
        "id": "qomn417-rwl9",
        "outputId": "e7e2848b-73e8-4aa9-fda8-4fa348b706ab"
      },
      "source": [
        "df.shape"
      ],
      "execution_count": 12,
      "outputs": [
        {
          "output_type": "execute_result",
          "data": {
            "text/plain": [
              "(1637, 3)"
            ]
          },
          "metadata": {
            "tags": []
          },
          "execution_count": 12
        }
      ]
    },
    {
      "cell_type": "markdown",
      "metadata": {
        "id": "gGAtHuukX7QZ"
      },
      "source": [
        "## **3.3 Tipo de dados**"
      ]
    },
    {
      "cell_type": "code",
      "metadata": {
        "colab": {
          "base_uri": "https://localhost:8080/"
        },
        "id": "8TtQ04bpr5e0",
        "outputId": "5b35afdc-4762-4d6d-d875-08f1f7998482"
      },
      "source": [
        "df.dtypes"
      ],
      "execution_count": 13,
      "outputs": [
        {
          "output_type": "execute_result",
          "data": {
            "text/plain": [
              "negotiation_date    datetime64[ns]\n",
              "sold_price                 float64\n",
              "product                     object\n",
              "dtype: object"
            ]
          },
          "metadata": {
            "tags": []
          },
          "execution_count": 13
        }
      ]
    },
    {
      "cell_type": "code",
      "metadata": {
        "colab": {
          "base_uri": "https://localhost:8080/",
          "height": 204
        },
        "id": "geHxZ6ni0B3V",
        "outputId": "8ca9984a-1fc2-4604-8dd5-2785cddd8e69"
      },
      "source": [
        "df.head()"
      ],
      "execution_count": 14,
      "outputs": [
        {
          "output_type": "execute_result",
          "data": {
            "text/html": [
              "<div>\n",
              "<style scoped>\n",
              "    .dataframe tbody tr th:only-of-type {\n",
              "        vertical-align: middle;\n",
              "    }\n",
              "\n",
              "    .dataframe tbody tr th {\n",
              "        vertical-align: top;\n",
              "    }\n",
              "\n",
              "    .dataframe thead th {\n",
              "        text-align: right;\n",
              "    }\n",
              "</style>\n",
              "<table border=\"1\" class=\"dataframe\">\n",
              "  <thead>\n",
              "    <tr style=\"text-align: right;\">\n",
              "      <th></th>\n",
              "      <th>negotiation_date</th>\n",
              "      <th>sold_price</th>\n",
              "      <th>product</th>\n",
              "    </tr>\n",
              "  </thead>\n",
              "  <tbody>\n",
              "    <tr>\n",
              "      <th>0</th>\n",
              "      <td>2014-01-07</td>\n",
              "      <td>308.33</td>\n",
              "      <td>Polpa Cítrica</td>\n",
              "    </tr>\n",
              "    <tr>\n",
              "      <th>1</th>\n",
              "      <td>2014-01-08</td>\n",
              "      <td>300.67</td>\n",
              "      <td>Polpa Cítrica</td>\n",
              "    </tr>\n",
              "    <tr>\n",
              "      <th>2</th>\n",
              "      <td>2014-01-09</td>\n",
              "      <td>295.00</td>\n",
              "      <td>Polpa Cítrica</td>\n",
              "    </tr>\n",
              "    <tr>\n",
              "      <th>3</th>\n",
              "      <td>2014-01-10</td>\n",
              "      <td>324.00</td>\n",
              "      <td>Polpa Cítrica</td>\n",
              "    </tr>\n",
              "    <tr>\n",
              "      <th>4</th>\n",
              "      <td>2014-01-11</td>\n",
              "      <td>250.71</td>\n",
              "      <td>Polpa Cítrica</td>\n",
              "    </tr>\n",
              "  </tbody>\n",
              "</table>\n",
              "</div>"
            ],
            "text/plain": [
              "  negotiation_date  sold_price        product\n",
              "0       2014-01-07      308.33  Polpa Cítrica\n",
              "1       2014-01-08      300.67  Polpa Cítrica\n",
              "2       2014-01-09      295.00  Polpa Cítrica\n",
              "3       2014-01-10      324.00  Polpa Cítrica\n",
              "4       2014-01-11      250.71  Polpa Cítrica"
            ]
          },
          "metadata": {
            "tags": []
          },
          "execution_count": 14
        }
      ]
    },
    {
      "cell_type": "markdown",
      "metadata": {
        "id": "IPLUeKIUUZpY"
      },
      "source": [
        "Colocando a data no formato datetime"
      ]
    },
    {
      "cell_type": "code",
      "metadata": {
        "id": "-mjVytjjr7Z0"
      },
      "source": [
        "df['negotiation_date'] = pd.to_datetime(df['negotiation_date'])"
      ],
      "execution_count": 15,
      "outputs": []
    },
    {
      "cell_type": "code",
      "metadata": {
        "colab": {
          "base_uri": "https://localhost:8080/"
        },
        "id": "oNkKpoL1sDMb",
        "outputId": "226e9cde-1903-4554-b82b-11449a912c8e"
      },
      "source": [
        "np.unique(df['product'],return_counts=True)"
      ],
      "execution_count": 16,
      "outputs": [
        {
          "output_type": "execute_result",
          "data": {
            "text/plain": [
              "(array(['Polpa Cítrica'], dtype=object), array([1637]))"
            ]
          },
          "metadata": {
            "tags": []
          },
          "execution_count": 16
        }
      ]
    },
    {
      "cell_type": "markdown",
      "metadata": {
        "id": "6ZHHESZisPlf"
      },
      "source": [
        "Como só temos um produto, a coluna product é desnecessária"
      ]
    },
    {
      "cell_type": "code",
      "metadata": {
        "id": "aHpDOVwdsOwN"
      },
      "source": [
        "df.drop('product',axis=1,inplace=True)"
      ],
      "execution_count": 17,
      "outputs": []
    },
    {
      "cell_type": "markdown",
      "metadata": {
        "id": "bM6tRS2Fsm2Q"
      },
      "source": [
        "## **3.3 Verificando dados faltantes**"
      ]
    },
    {
      "cell_type": "code",
      "metadata": {
        "colab": {
          "base_uri": "https://localhost:8080/"
        },
        "id": "z-5__yDTsxk8",
        "outputId": "16606c39-7df1-4f38-d0f5-4d46d6917633"
      },
      "source": [
        "df.isnull().sum()"
      ],
      "execution_count": 18,
      "outputs": [
        {
          "output_type": "execute_result",
          "data": {
            "text/plain": [
              "negotiation_date    0\n",
              "sold_price          0\n",
              "dtype: int64"
            ]
          },
          "metadata": {
            "tags": []
          },
          "execution_count": 18
        }
      ]
    },
    {
      "cell_type": "markdown",
      "metadata": {
        "id": "z8itYEeDYsyS"
      },
      "source": [
        "## **3.4 Estatística descritiva**"
      ]
    },
    {
      "cell_type": "code",
      "metadata": {
        "id": "eo0ooldNs14D"
      },
      "source": [
        "df2 = getStatistic(df)"
      ],
      "execution_count": 19,
      "outputs": []
    },
    {
      "cell_type": "code",
      "metadata": {
        "colab": {
          "base_uri": "https://localhost:8080/",
          "height": 80
        },
        "id": "6OOvGDZZtB0n",
        "outputId": "053beb4a-fc05-40d6-98cf-0abe9e7926fa"
      },
      "source": [
        "df2"
      ],
      "execution_count": 20,
      "outputs": [
        {
          "output_type": "execute_result",
          "data": {
            "text/html": [
              "<div>\n",
              "<style scoped>\n",
              "    .dataframe tbody tr th:only-of-type {\n",
              "        vertical-align: middle;\n",
              "    }\n",
              "\n",
              "    .dataframe tbody tr th {\n",
              "        vertical-align: top;\n",
              "    }\n",
              "\n",
              "    .dataframe thead th {\n",
              "        text-align: right;\n",
              "    }\n",
              "</style>\n",
              "<table border=\"1\" class=\"dataframe\">\n",
              "  <thead>\n",
              "    <tr style=\"text-align: right;\">\n",
              "      <th></th>\n",
              "      <th>MEDIA</th>\n",
              "      <th>MEDIANA</th>\n",
              "      <th>DESVIO</th>\n",
              "      <th>MIN</th>\n",
              "      <th>MAX</th>\n",
              "      <th>INTERVALO</th>\n",
              "      <th>SKEW</th>\n",
              "      <th>CURTOSE</th>\n",
              "      <th>CV</th>\n",
              "    </tr>\n",
              "  </thead>\n",
              "  <tbody>\n",
              "    <tr>\n",
              "      <th>sold_price</th>\n",
              "      <td>379.735278</td>\n",
              "      <td>343.6</td>\n",
              "      <td>130.371704</td>\n",
              "      <td>145.0</td>\n",
              "      <td>845.0</td>\n",
              "      <td>700.0</td>\n",
              "      <td>0.740081</td>\n",
              "      <td>0.042978</td>\n",
              "      <td>34.33226</td>\n",
              "    </tr>\n",
              "  </tbody>\n",
              "</table>\n",
              "</div>"
            ],
            "text/plain": [
              "                 MEDIA  MEDIANA      DESVIO  ...      SKEW   CURTOSE        CV\n",
              "sold_price  379.735278    343.6  130.371704  ...  0.740081  0.042978  34.33226\n",
              "\n",
              "[1 rows x 9 columns]"
            ]
          },
          "metadata": {
            "tags": []
          },
          "execution_count": 20
        }
      ]
    },
    {
      "cell_type": "markdown",
      "metadata": {
        "id": "WxIS5on9tIgP"
      },
      "source": [
        "O único atributo numérico que temos é o sold_price, no qual possui uma distribuição assimétrica positiva, tendo como seu menor preço 145 e máximo de 845. Sua média e mediana são bem próximas e se aproximam de uma distribuição normal. De acordo com a curtose, a distribuição terá uma curva da função com um pico mais alto do que uma distribuição normal (Leptocúrtica)."
      ]
    },
    {
      "cell_type": "code",
      "metadata": {
        "colab": {
          "base_uri": "https://localhost:8080/",
          "height": 669
        },
        "id": "OLtloiJEu02E",
        "outputId": "fe4ed574-5c75-4ec5-a804-dd470286eeb1"
      },
      "source": [
        "df.head(20)"
      ],
      "execution_count": 21,
      "outputs": [
        {
          "output_type": "execute_result",
          "data": {
            "text/html": [
              "<div>\n",
              "<style scoped>\n",
              "    .dataframe tbody tr th:only-of-type {\n",
              "        vertical-align: middle;\n",
              "    }\n",
              "\n",
              "    .dataframe tbody tr th {\n",
              "        vertical-align: top;\n",
              "    }\n",
              "\n",
              "    .dataframe thead th {\n",
              "        text-align: right;\n",
              "    }\n",
              "</style>\n",
              "<table border=\"1\" class=\"dataframe\">\n",
              "  <thead>\n",
              "    <tr style=\"text-align: right;\">\n",
              "      <th></th>\n",
              "      <th>negotiation_date</th>\n",
              "      <th>sold_price</th>\n",
              "    </tr>\n",
              "  </thead>\n",
              "  <tbody>\n",
              "    <tr>\n",
              "      <th>0</th>\n",
              "      <td>2014-01-07</td>\n",
              "      <td>308.33</td>\n",
              "    </tr>\n",
              "    <tr>\n",
              "      <th>1</th>\n",
              "      <td>2014-01-08</td>\n",
              "      <td>300.67</td>\n",
              "    </tr>\n",
              "    <tr>\n",
              "      <th>2</th>\n",
              "      <td>2014-01-09</td>\n",
              "      <td>295.00</td>\n",
              "    </tr>\n",
              "    <tr>\n",
              "      <th>3</th>\n",
              "      <td>2014-01-10</td>\n",
              "      <td>324.00</td>\n",
              "    </tr>\n",
              "    <tr>\n",
              "      <th>4</th>\n",
              "      <td>2014-01-11</td>\n",
              "      <td>250.71</td>\n",
              "    </tr>\n",
              "    <tr>\n",
              "      <th>5</th>\n",
              "      <td>2014-01-12</td>\n",
              "      <td>250.00</td>\n",
              "    </tr>\n",
              "    <tr>\n",
              "      <th>6</th>\n",
              "      <td>2014-01-15</td>\n",
              "      <td>305.00</td>\n",
              "    </tr>\n",
              "    <tr>\n",
              "      <th>7</th>\n",
              "      <td>2014-01-21</td>\n",
              "      <td>335.00</td>\n",
              "    </tr>\n",
              "    <tr>\n",
              "      <th>8</th>\n",
              "      <td>2014-01-22</td>\n",
              "      <td>338.50</td>\n",
              "    </tr>\n",
              "    <tr>\n",
              "      <th>9</th>\n",
              "      <td>2014-01-23</td>\n",
              "      <td>336.75</td>\n",
              "    </tr>\n",
              "    <tr>\n",
              "      <th>10</th>\n",
              "      <td>2014-01-24</td>\n",
              "      <td>330.00</td>\n",
              "    </tr>\n",
              "    <tr>\n",
              "      <th>11</th>\n",
              "      <td>2014-01-27</td>\n",
              "      <td>320.00</td>\n",
              "    </tr>\n",
              "    <tr>\n",
              "      <th>12</th>\n",
              "      <td>2014-01-28</td>\n",
              "      <td>356.25</td>\n",
              "    </tr>\n",
              "    <tr>\n",
              "      <th>13</th>\n",
              "      <td>2014-01-30</td>\n",
              "      <td>330.00</td>\n",
              "    </tr>\n",
              "    <tr>\n",
              "      <th>14</th>\n",
              "      <td>2014-01-31</td>\n",
              "      <td>314.64</td>\n",
              "    </tr>\n",
              "    <tr>\n",
              "      <th>15</th>\n",
              "      <td>2014-02-01</td>\n",
              "      <td>280.00</td>\n",
              "    </tr>\n",
              "    <tr>\n",
              "      <th>16</th>\n",
              "      <td>2014-02-06</td>\n",
              "      <td>345.00</td>\n",
              "    </tr>\n",
              "    <tr>\n",
              "      <th>17</th>\n",
              "      <td>2014-02-07</td>\n",
              "      <td>315.94</td>\n",
              "    </tr>\n",
              "    <tr>\n",
              "      <th>18</th>\n",
              "      <td>2014-02-08</td>\n",
              "      <td>290.00</td>\n",
              "    </tr>\n",
              "    <tr>\n",
              "      <th>19</th>\n",
              "      <td>2014-02-09</td>\n",
              "      <td>301.80</td>\n",
              "    </tr>\n",
              "  </tbody>\n",
              "</table>\n",
              "</div>"
            ],
            "text/plain": [
              "   negotiation_date  sold_price\n",
              "0        2014-01-07      308.33\n",
              "1        2014-01-08      300.67\n",
              "2        2014-01-09      295.00\n",
              "3        2014-01-10      324.00\n",
              "4        2014-01-11      250.71\n",
              "5        2014-01-12      250.00\n",
              "6        2014-01-15      305.00\n",
              "7        2014-01-21      335.00\n",
              "8        2014-01-22      338.50\n",
              "9        2014-01-23      336.75\n",
              "10       2014-01-24      330.00\n",
              "11       2014-01-27      320.00\n",
              "12       2014-01-28      356.25\n",
              "13       2014-01-30      330.00\n",
              "14       2014-01-31      314.64\n",
              "15       2014-02-01      280.00\n",
              "16       2014-02-06      345.00\n",
              "17       2014-02-07      315.94\n",
              "18       2014-02-08      290.00\n",
              "19       2014-02-09      301.80"
            ]
          },
          "metadata": {
            "tags": []
          },
          "execution_count": 21
        }
      ]
    },
    {
      "cell_type": "markdown",
      "metadata": {
        "id": "G2EUFGRX1Svy"
      },
      "source": [
        "A série temporal é irregular como podemos ver, será necessário corrigir a série para se tornar regular como uma sequência diária."
      ]
    },
    {
      "cell_type": "markdown",
      "metadata": {
        "id": "hYAQ_4F711KQ"
      },
      "source": [
        "## **3.5 Corrigindo falha temporal**"
      ]
    },
    {
      "cell_type": "code",
      "metadata": {
        "id": "Cl4_UDM32wC4"
      },
      "source": [
        "df2 = df.copy()"
      ],
      "execution_count": 22,
      "outputs": []
    },
    {
      "cell_type": "code",
      "metadata": {
        "id": "egxMLVav2Y2O"
      },
      "source": [
        "start = df2['negotiation_date'].head(1).values[0]\r\n",
        "end= df2['negotiation_date'].tail(1).values[0]"
      ],
      "execution_count": 23,
      "outputs": []
    },
    {
      "cell_type": "code",
      "metadata": {
        "colab": {
          "base_uri": "https://localhost:8080/"
        },
        "id": "8ghr3wRLhlzR",
        "outputId": "a4c8e58c-b725-44c0-bab1-06f28fe50907"
      },
      "source": [
        "start"
      ],
      "execution_count": 24,
      "outputs": [
        {
          "output_type": "execute_result",
          "data": {
            "text/plain": [
              "numpy.datetime64('2014-01-07T00:00:00.000000000')"
            ]
          },
          "metadata": {
            "tags": []
          },
          "execution_count": 24
        }
      ]
    },
    {
      "cell_type": "code",
      "metadata": {
        "colab": {
          "base_uri": "https://localhost:8080/"
        },
        "id": "uYzBGNhthoxV",
        "outputId": "ff6fa721-725f-48d9-d7e0-1c32a3ecb102"
      },
      "source": [
        "end"
      ],
      "execution_count": 25,
      "outputs": [
        {
          "output_type": "execute_result",
          "data": {
            "text/plain": [
              "numpy.datetime64('2019-07-31T00:00:00.000000000')"
            ]
          },
          "metadata": {
            "tags": []
          },
          "execution_count": 25
        }
      ]
    },
    {
      "cell_type": "code",
      "metadata": {
        "id": "2KV7C7782fNC"
      },
      "source": [
        "df_aux = pd.date_range(start=start,end=end,name='negotiation_date').to_frame().reset_index(drop=True)"
      ],
      "execution_count": 26,
      "outputs": []
    },
    {
      "cell_type": "code",
      "metadata": {
        "id": "bg_NbIiU2ojl"
      },
      "source": [
        "full = pd.merge(left=df_aux,right=df2,how='left',left_on='negotiation_date',right_on='negotiation_date')"
      ],
      "execution_count": 27,
      "outputs": []
    },
    {
      "cell_type": "code",
      "metadata": {
        "colab": {
          "base_uri": "https://localhost:8080/"
        },
        "id": "PuEhLlZB3Zlz",
        "outputId": "a710375f-952c-4dd4-b3ea-0b289cf0d211"
      },
      "source": [
        "full.isnull().sum()"
      ],
      "execution_count": 28,
      "outputs": [
        {
          "output_type": "execute_result",
          "data": {
            "text/plain": [
              "negotiation_date      0\n",
              "sold_price          395\n",
              "dtype: int64"
            ]
          },
          "metadata": {
            "tags": []
          },
          "execution_count": 28
        }
      ]
    },
    {
      "cell_type": "markdown",
      "metadata": {
        "id": "MUbTZ_DO24UO"
      },
      "source": [
        "Existem 395 dias com falha temporal entre 07/01/2014 á 31/07/2019. Irei considerar o mesmo preço do dia anterior para os preços com NaN valores."
      ]
    },
    {
      "cell_type": "code",
      "metadata": {
        "colab": {
          "base_uri": "https://localhost:8080/",
          "height": 359
        },
        "id": "8a8R9UPY3APT",
        "outputId": "73f33f57-6dc6-4498-8e04-645da6c49410"
      },
      "source": [
        "full.head(10)"
      ],
      "execution_count": 29,
      "outputs": [
        {
          "output_type": "execute_result",
          "data": {
            "text/html": [
              "<div>\n",
              "<style scoped>\n",
              "    .dataframe tbody tr th:only-of-type {\n",
              "        vertical-align: middle;\n",
              "    }\n",
              "\n",
              "    .dataframe tbody tr th {\n",
              "        vertical-align: top;\n",
              "    }\n",
              "\n",
              "    .dataframe thead th {\n",
              "        text-align: right;\n",
              "    }\n",
              "</style>\n",
              "<table border=\"1\" class=\"dataframe\">\n",
              "  <thead>\n",
              "    <tr style=\"text-align: right;\">\n",
              "      <th></th>\n",
              "      <th>negotiation_date</th>\n",
              "      <th>sold_price</th>\n",
              "    </tr>\n",
              "  </thead>\n",
              "  <tbody>\n",
              "    <tr>\n",
              "      <th>0</th>\n",
              "      <td>2014-01-07</td>\n",
              "      <td>308.33</td>\n",
              "    </tr>\n",
              "    <tr>\n",
              "      <th>1</th>\n",
              "      <td>2014-01-08</td>\n",
              "      <td>300.67</td>\n",
              "    </tr>\n",
              "    <tr>\n",
              "      <th>2</th>\n",
              "      <td>2014-01-09</td>\n",
              "      <td>295.00</td>\n",
              "    </tr>\n",
              "    <tr>\n",
              "      <th>3</th>\n",
              "      <td>2014-01-10</td>\n",
              "      <td>324.00</td>\n",
              "    </tr>\n",
              "    <tr>\n",
              "      <th>4</th>\n",
              "      <td>2014-01-11</td>\n",
              "      <td>250.71</td>\n",
              "    </tr>\n",
              "    <tr>\n",
              "      <th>5</th>\n",
              "      <td>2014-01-12</td>\n",
              "      <td>250.00</td>\n",
              "    </tr>\n",
              "    <tr>\n",
              "      <th>6</th>\n",
              "      <td>2014-01-13</td>\n",
              "      <td>NaN</td>\n",
              "    </tr>\n",
              "    <tr>\n",
              "      <th>7</th>\n",
              "      <td>2014-01-14</td>\n",
              "      <td>NaN</td>\n",
              "    </tr>\n",
              "    <tr>\n",
              "      <th>8</th>\n",
              "      <td>2014-01-15</td>\n",
              "      <td>305.00</td>\n",
              "    </tr>\n",
              "    <tr>\n",
              "      <th>9</th>\n",
              "      <td>2014-01-16</td>\n",
              "      <td>NaN</td>\n",
              "    </tr>\n",
              "  </tbody>\n",
              "</table>\n",
              "</div>"
            ],
            "text/plain": [
              "  negotiation_date  sold_price\n",
              "0       2014-01-07      308.33\n",
              "1       2014-01-08      300.67\n",
              "2       2014-01-09      295.00\n",
              "3       2014-01-10      324.00\n",
              "4       2014-01-11      250.71\n",
              "5       2014-01-12      250.00\n",
              "6       2014-01-13         NaN\n",
              "7       2014-01-14         NaN\n",
              "8       2014-01-15      305.00\n",
              "9       2014-01-16         NaN"
            ]
          },
          "metadata": {
            "tags": []
          },
          "execution_count": 29
        }
      ]
    },
    {
      "cell_type": "code",
      "metadata": {
        "id": "AW8p7Nbt3Ff5"
      },
      "source": [
        "full['sold_price'].fillna(method='ffill',inplace=True)"
      ],
      "execution_count": 30,
      "outputs": []
    },
    {
      "cell_type": "code",
      "metadata": {
        "colab": {
          "base_uri": "https://localhost:8080/",
          "height": 204
        },
        "id": "fo03aiDs3RTm",
        "outputId": "82d1e1cd-3305-497e-aeb1-41bc59feafa5"
      },
      "source": [
        "full.tail()"
      ],
      "execution_count": 31,
      "outputs": [
        {
          "output_type": "execute_result",
          "data": {
            "text/html": [
              "<div>\n",
              "<style scoped>\n",
              "    .dataframe tbody tr th:only-of-type {\n",
              "        vertical-align: middle;\n",
              "    }\n",
              "\n",
              "    .dataframe tbody tr th {\n",
              "        vertical-align: top;\n",
              "    }\n",
              "\n",
              "    .dataframe thead th {\n",
              "        text-align: right;\n",
              "    }\n",
              "</style>\n",
              "<table border=\"1\" class=\"dataframe\">\n",
              "  <thead>\n",
              "    <tr style=\"text-align: right;\">\n",
              "      <th></th>\n",
              "      <th>negotiation_date</th>\n",
              "      <th>sold_price</th>\n",
              "    </tr>\n",
              "  </thead>\n",
              "  <tbody>\n",
              "    <tr>\n",
              "      <th>2027</th>\n",
              "      <td>2019-07-27</td>\n",
              "      <td>320.0</td>\n",
              "    </tr>\n",
              "    <tr>\n",
              "      <th>2028</th>\n",
              "      <td>2019-07-28</td>\n",
              "      <td>320.0</td>\n",
              "    </tr>\n",
              "    <tr>\n",
              "      <th>2029</th>\n",
              "      <td>2019-07-29</td>\n",
              "      <td>305.0</td>\n",
              "    </tr>\n",
              "    <tr>\n",
              "      <th>2030</th>\n",
              "      <td>2019-07-30</td>\n",
              "      <td>350.0</td>\n",
              "    </tr>\n",
              "    <tr>\n",
              "      <th>2031</th>\n",
              "      <td>2019-07-31</td>\n",
              "      <td>315.0</td>\n",
              "    </tr>\n",
              "  </tbody>\n",
              "</table>\n",
              "</div>"
            ],
            "text/plain": [
              "     negotiation_date  sold_price\n",
              "2027       2019-07-27       320.0\n",
              "2028       2019-07-28       320.0\n",
              "2029       2019-07-29       305.0\n",
              "2030       2019-07-30       350.0\n",
              "2031       2019-07-31       315.0"
            ]
          },
          "metadata": {
            "tags": []
          },
          "execution_count": 31
        }
      ]
    },
    {
      "cell_type": "markdown",
      "metadata": {
        "id": "PTrd3bYFYzMs"
      },
      "source": [
        "# **4.0 Feature Engineering**"
      ]
    },
    {
      "cell_type": "code",
      "metadata": {
        "id": "LCg1k4x_4Sif"
      },
      "source": [
        "df3=full.copy()"
      ],
      "execution_count": 82,
      "outputs": []
    },
    {
      "cell_type": "code",
      "metadata": {
        "id": "_y4zyFoM4TVP"
      },
      "source": [
        "# year\r\n",
        "df3['year'] = df3['negotiation_date'].dt.year\r\n",
        "\r\n",
        "# month\r\n",
        "df3['month'] = df3['negotiation_date'].dt.month\r\n",
        "\r\n",
        "# day\r\n",
        "df3['day'] = df3['negotiation_date'].dt.day\r\n",
        "\r\n",
        "# week of year\r\n",
        "df3['week_of_year'] = df3['negotiation_date'].dt.isocalendar().week\r\n",
        "\r\n",
        "# year week\r\n",
        "df3['year_week'] = df3['negotiation_date'].dt.strftime('%Y-%W')\r\n",
        "\r\n",
        "#day week\r\n",
        "df3['day_week'] = df3['negotiation_date'].dt.weekday"
      ],
      "execution_count": 83,
      "outputs": []
    },
    {
      "cell_type": "code",
      "metadata": {
        "colab": {
          "base_uri": "https://localhost:8080/",
          "height": 545
        },
        "id": "XnJaL7fA9OKP",
        "outputId": "ee8518bc-bc87-4577-c197-53ce8b2b9c8f"
      },
      "source": [
        "plot_acf(df3.sold_price,lags=90);\r\n",
        "plot_pacf(df3.sold_price,lags=50);"
      ],
      "execution_count": 84,
      "outputs": [
        {
          "output_type": "display_data",
          "data": {
            "image/png": "[encoded data removed]",
            "text/plain": [
              "<Figure size 432x288 with 1 Axes>"
            ]
          },
          "metadata": {
            "tags": [],
            "needs_background": "light"
          }
        },
        {
          "output_type": "display_data",
          "data": {
            "image/png": "[encoded data removed]",
            "text/plain": [
              "<Figure size 432x288 with 1 Axes>"
            ]
          },
          "metadata": {
            "tags": [],
            "needs_background": "light"
          }
        }
      ]
    },
    {
      "cell_type": "markdown",
      "metadata": {
        "id": "prqbhQHE9PVN"
      },
      "source": [
        "* o gráfico da função (ACF) nos ajuda a identificar se a série é estacionária, caso fosse o gráfico mostraria um decaimento para 0 relativamente rápido, no entanto pelo gráfico o decaimento é lento. Já o gráfico de correlaçaõ parcial (PACF) nos mostra que o lag 1 possui forte correlação com nosso alvo **sold_price**.\r\n",
        "\r\n",
        "* Abaixo irei gerar diferentes lags (sold_price_lag) e também fazer a diferenciação da série com valores anteriores (sold_price_diff)."
      ]
    },
    {
      "cell_type": "code",
      "metadata": {
        "id": "P0dWzlKoAwKY"
      },
      "source": [
        "for i in range(1,6):\r\n",
        "  df3['sold_price_lag_{}'.format(i)] = df3['sold_price'].shift(i)"
      ],
      "execution_count": 85,
      "outputs": []
    },
    {
      "cell_type": "code",
      "metadata": {
        "id": "RfGgRivgPjLE"
      },
      "source": [
        "for i in range(1,6):\r\n",
        "  df3['sold_price_diff_{}'.format(i)] = df3['sold_price'].diff(i)  "
      ],
      "execution_count": 86,
      "outputs": []
    },
    {
      "cell_type": "code",
      "metadata": {
        "id": "K5BdSLrD4kpy",
        "colab": {
          "base_uri": "https://localhost:8080/",
          "height": 224
        },
        "outputId": "3abd80f5-685b-467f-998a-632bbc5dd599"
      },
      "source": [
        "df3.tail()"
      ],
      "execution_count": 87,
      "outputs": [
        {
          "output_type": "execute_result",
          "data": {
            "text/html": [
              "<div>\n",
              "<style scoped>\n",
              "    .dataframe tbody tr th:only-of-type {\n",
              "        vertical-align: middle;\n",
              "    }\n",
              "\n",
              "    .dataframe tbody tr th {\n",
              "        vertical-align: top;\n",
              "    }\n",
              "\n",
              "    .dataframe thead th {\n",
              "        text-align: right;\n",
              "    }\n",
              "</style>\n",
              "<table border=\"1\" class=\"dataframe\">\n",
              "  <thead>\n",
              "    <tr style=\"text-align: right;\">\n",
              "      <th></th>\n",
              "      <th>negotiation_date</th>\n",
              "      <th>sold_price</th>\n",
              "      <th>year</th>\n",
              "      <th>month</th>\n",
              "      <th>day</th>\n",
              "      <th>week_of_year</th>\n",
              "      <th>year_week</th>\n",
              "      <th>day_week</th>\n",
              "      <th>sold_price_lag_1</th>\n",
              "      <th>sold_price_lag_2</th>\n",
              "      <th>sold_price_lag_3</th>\n",
              "      <th>sold_price_lag_4</th>\n",
              "      <th>sold_price_lag_5</th>\n",
              "      <th>sold_price_diff_1</th>\n",
              "      <th>sold_price_diff_2</th>\n",
              "      <th>sold_price_diff_3</th>\n",
              "      <th>sold_price_diff_4</th>\n",
              "      <th>sold_price_diff_5</th>\n",
              "    </tr>\n",
              "  </thead>\n",
              "  <tbody>\n",
              "    <tr>\n",
              "      <th>2027</th>\n",
              "      <td>2019-07-27</td>\n",
              "      <td>320.0</td>\n",
              "      <td>2019</td>\n",
              "      <td>7</td>\n",
              "      <td>27</td>\n",
              "      <td>30</td>\n",
              "      <td>2019-29</td>\n",
              "      <td>5</td>\n",
              "      <td>324.09</td>\n",
              "      <td>321.67</td>\n",
              "      <td>316.67</td>\n",
              "      <td>328.57</td>\n",
              "      <td>306.67</td>\n",
              "      <td>-4.09</td>\n",
              "      <td>-1.67</td>\n",
              "      <td>3.33</td>\n",
              "      <td>-8.57</td>\n",
              "      <td>13.33</td>\n",
              "    </tr>\n",
              "    <tr>\n",
              "      <th>2028</th>\n",
              "      <td>2019-07-28</td>\n",
              "      <td>320.0</td>\n",
              "      <td>2019</td>\n",
              "      <td>7</td>\n",
              "      <td>28</td>\n",
              "      <td>30</td>\n",
              "      <td>2019-29</td>\n",
              "      <td>6</td>\n",
              "      <td>320.00</td>\n",
              "      <td>324.09</td>\n",
              "      <td>321.67</td>\n",
              "      <td>316.67</td>\n",
              "      <td>328.57</td>\n",
              "      <td>0.00</td>\n",
              "      <td>-4.09</td>\n",
              "      <td>-1.67</td>\n",
              "      <td>3.33</td>\n",
              "      <td>-8.57</td>\n",
              "    </tr>\n",
              "    <tr>\n",
              "      <th>2029</th>\n",
              "      <td>2019-07-29</td>\n",
              "      <td>305.0</td>\n",
              "      <td>2019</td>\n",
              "      <td>7</td>\n",
              "      <td>29</td>\n",
              "      <td>31</td>\n",
              "      <td>2019-30</td>\n",
              "      <td>0</td>\n",
              "      <td>320.00</td>\n",
              "      <td>320.00</td>\n",
              "      <td>324.09</td>\n",
              "      <td>321.67</td>\n",
              "      <td>316.67</td>\n",
              "      <td>-15.00</td>\n",
              "      <td>-15.00</td>\n",
              "      <td>-19.09</td>\n",
              "      <td>-16.67</td>\n",
              "      <td>-11.67</td>\n",
              "    </tr>\n",
              "    <tr>\n",
              "      <th>2030</th>\n",
              "      <td>2019-07-30</td>\n",
              "      <td>350.0</td>\n",
              "      <td>2019</td>\n",
              "      <td>7</td>\n",
              "      <td>30</td>\n",
              "      <td>31</td>\n",
              "      <td>2019-30</td>\n",
              "      <td>1</td>\n",
              "      <td>305.00</td>\n",
              "      <td>320.00</td>\n",
              "      <td>320.00</td>\n",
              "      <td>324.09</td>\n",
              "      <td>321.67</td>\n",
              "      <td>45.00</td>\n",
              "      <td>30.00</td>\n",
              "      <td>30.00</td>\n",
              "      <td>25.91</td>\n",
              "      <td>28.33</td>\n",
              "    </tr>\n",
              "    <tr>\n",
              "      <th>2031</th>\n",
              "      <td>2019-07-31</td>\n",
              "      <td>315.0</td>\n",
              "      <td>2019</td>\n",
              "      <td>7</td>\n",
              "      <td>31</td>\n",
              "      <td>31</td>\n",
              "      <td>2019-30</td>\n",
              "      <td>2</td>\n",
              "      <td>350.00</td>\n",
              "      <td>305.00</td>\n",
              "      <td>320.00</td>\n",
              "      <td>320.00</td>\n",
              "      <td>324.09</td>\n",
              "      <td>-35.00</td>\n",
              "      <td>10.00</td>\n",
              "      <td>-5.00</td>\n",
              "      <td>-5.00</td>\n",
              "      <td>-9.09</td>\n",
              "    </tr>\n",
              "  </tbody>\n",
              "</table>\n",
              "</div>"
            ],
            "text/plain": [
              "     negotiation_date  sold_price  ...  sold_price_diff_4  sold_price_diff_5\n",
              "2027       2019-07-27       320.0  ...              -8.57              13.33\n",
              "2028       2019-07-28       320.0  ...               3.33              -8.57\n",
              "2029       2019-07-29       305.0  ...             -16.67             -11.67\n",
              "2030       2019-07-30       350.0  ...              25.91              28.33\n",
              "2031       2019-07-31       315.0  ...              -5.00              -9.09\n",
              "\n",
              "[5 rows x 18 columns]"
            ]
          },
          "metadata": {
            "tags": []
          },
          "execution_count": 87
        }
      ]
    },
    {
      "cell_type": "code",
      "metadata": {
        "id": "qAsyAcFT9ip0"
      },
      "source": [
        "df3.dropna(inplace=True)"
      ],
      "execution_count": 88,
      "outputs": []
    },
    {
      "cell_type": "markdown",
      "metadata": {
        "id": "jNI8azJq4sCJ"
      },
      "source": [
        "# **5.0 Análise exploratória**"
      ]
    },
    {
      "cell_type": "code",
      "metadata": {
        "id": "yAd8pPQ85EtX"
      },
      "source": [
        "df4 = df3.copy()"
      ],
      "execution_count": 89,
      "outputs": []
    },
    {
      "cell_type": "markdown",
      "metadata": {
        "id": "LijxMZfY406_"
      },
      "source": [
        "## **5.1 Análise da variável de saída**"
      ]
    },
    {
      "cell_type": "code",
      "metadata": {
        "id": "3kmUBC9D5hsA",
        "colab": {
          "base_uri": "https://localhost:8080/",
          "height": 317
        },
        "outputId": "7942d2b5-c926-435c-8dc5-71eaea8627bb"
      },
      "source": [
        "df4.describe()"
      ],
      "execution_count": 90,
      "outputs": [
        {
          "output_type": "execute_result",
          "data": {
            "text/html": [
              "<div>\n",
              "<style scoped>\n",
              "    .dataframe tbody tr th:only-of-type {\n",
              "        vertical-align: middle;\n",
              "    }\n",
              "\n",
              "    .dataframe tbody tr th {\n",
              "        vertical-align: top;\n",
              "    }\n",
              "\n",
              "    .dataframe thead th {\n",
              "        text-align: right;\n",
              "    }\n",
              "</style>\n",
              "<table border=\"1\" class=\"dataframe\">\n",
              "  <thead>\n",
              "    <tr style=\"text-align: right;\">\n",
              "      <th></th>\n",
              "      <th>sold_price</th>\n",
              "      <th>year</th>\n",
              "      <th>month</th>\n",
              "      <th>day</th>\n",
              "      <th>week_of_year</th>\n",
              "      <th>day_week</th>\n",
              "      <th>sold_price_lag_1</th>\n",
              "      <th>sold_price_lag_2</th>\n",
              "      <th>sold_price_lag_3</th>\n",
              "      <th>sold_price_lag_4</th>\n",
              "      <th>sold_price_lag_5</th>\n",
              "      <th>sold_price_diff_1</th>\n",
              "      <th>sold_price_diff_2</th>\n",
              "      <th>sold_price_diff_3</th>\n",
              "      <th>sold_price_diff_4</th>\n",
              "      <th>sold_price_diff_5</th>\n",
              "    </tr>\n",
              "  </thead>\n",
              "  <tbody>\n",
              "    <tr>\n",
              "      <th>count</th>\n",
              "      <td>2027.000000</td>\n",
              "      <td>2027.000000</td>\n",
              "      <td>2027.000000</td>\n",
              "      <td>2027.000000</td>\n",
              "      <td>2027.000000</td>\n",
              "      <td>2027.000000</td>\n",
              "      <td>2027.000000</td>\n",
              "      <td>2027.000000</td>\n",
              "      <td>2027.000000</td>\n",
              "      <td>2027.000000</td>\n",
              "      <td>2027.000000</td>\n",
              "      <td>2027.000000</td>\n",
              "      <td>2027.000000</td>\n",
              "      <td>2027.000000</td>\n",
              "      <td>2027.000000</td>\n",
              "      <td>2027.000000</td>\n",
              "    </tr>\n",
              "    <tr>\n",
              "      <th>mean</th>\n",
              "      <td>388.541944</td>\n",
              "      <td>2016.324618</td>\n",
              "      <td>6.291564</td>\n",
              "      <td>15.773557</td>\n",
              "      <td>25.619142</td>\n",
              "      <td>2.998520</td>\n",
              "      <td>388.510227</td>\n",
              "      <td>388.497400</td>\n",
              "      <td>388.492467</td>\n",
              "      <td>388.482930</td>\n",
              "      <td>388.477173</td>\n",
              "      <td>0.031717</td>\n",
              "      <td>0.044544</td>\n",
              "      <td>0.049477</td>\n",
              "      <td>0.059013</td>\n",
              "      <td>0.064771</td>\n",
              "    </tr>\n",
              "    <tr>\n",
              "      <th>std</th>\n",
              "      <td>132.016087</td>\n",
              "      <td>1.617464</td>\n",
              "      <td>3.402331</td>\n",
              "      <td>8.789663</td>\n",
              "      <td>14.842842</td>\n",
              "      <td>2.001356</td>\n",
              "      <td>132.041485</td>\n",
              "      <td>132.046491</td>\n",
              "      <td>132.049798</td>\n",
              "      <td>132.055445</td>\n",
              "      <td>132.058687</td>\n",
              "      <td>70.744700</td>\n",
              "      <td>94.584316</td>\n",
              "      <td>110.702783</td>\n",
              "      <td>122.372282</td>\n",
              "      <td>131.125159</td>\n",
              "    </tr>\n",
              "    <tr>\n",
              "      <th>min</th>\n",
              "      <td>145.000000</td>\n",
              "      <td>2014.000000</td>\n",
              "      <td>1.000000</td>\n",
              "      <td>1.000000</td>\n",
              "      <td>1.000000</td>\n",
              "      <td>0.000000</td>\n",
              "      <td>145.000000</td>\n",
              "      <td>145.000000</td>\n",
              "      <td>145.000000</td>\n",
              "      <td>145.000000</td>\n",
              "      <td>145.000000</td>\n",
              "      <td>-395.220000</td>\n",
              "      <td>-470.830000</td>\n",
              "      <td>-530.000000</td>\n",
              "      <td>-568.500000</td>\n",
              "      <td>-700.000000</td>\n",
              "    </tr>\n",
              "    <tr>\n",
              "      <th>25%</th>\n",
              "      <td>280.000000</td>\n",
              "      <td>2015.000000</td>\n",
              "      <td>3.000000</td>\n",
              "      <td>8.000000</td>\n",
              "      <td>13.000000</td>\n",
              "      <td>1.000000</td>\n",
              "      <td>280.000000</td>\n",
              "      <td>280.000000</td>\n",
              "      <td>280.000000</td>\n",
              "      <td>280.000000</td>\n",
              "      <td>280.000000</td>\n",
              "      <td>-11.500000</td>\n",
              "      <td>-19.835000</td>\n",
              "      <td>-23.330000</td>\n",
              "      <td>-28.465000</td>\n",
              "      <td>-31.995000</td>\n",
              "    </tr>\n",
              "    <tr>\n",
              "      <th>50%</th>\n",
              "      <td>360.000000</td>\n",
              "      <td>2016.000000</td>\n",
              "      <td>6.000000</td>\n",
              "      <td>16.000000</td>\n",
              "      <td>25.000000</td>\n",
              "      <td>3.000000</td>\n",
              "      <td>360.000000</td>\n",
              "      <td>360.000000</td>\n",
              "      <td>360.000000</td>\n",
              "      <td>360.000000</td>\n",
              "      <td>360.000000</td>\n",
              "      <td>0.000000</td>\n",
              "      <td>0.000000</td>\n",
              "      <td>0.000000</td>\n",
              "      <td>0.000000</td>\n",
              "      <td>0.920000</td>\n",
              "    </tr>\n",
              "    <tr>\n",
              "      <th>75%</th>\n",
              "      <td>470.000000</td>\n",
              "      <td>2018.000000</td>\n",
              "      <td>9.000000</td>\n",
              "      <td>23.000000</td>\n",
              "      <td>38.000000</td>\n",
              "      <td>5.000000</td>\n",
              "      <td>470.000000</td>\n",
              "      <td>470.000000</td>\n",
              "      <td>470.000000</td>\n",
              "      <td>470.000000</td>\n",
              "      <td>470.000000</td>\n",
              "      <td>13.945000</td>\n",
              "      <td>22.845000</td>\n",
              "      <td>29.915000</td>\n",
              "      <td>32.890000</td>\n",
              "      <td>35.885000</td>\n",
              "    </tr>\n",
              "    <tr>\n",
              "      <th>max</th>\n",
              "      <td>845.000000</td>\n",
              "      <td>2019.000000</td>\n",
              "      <td>12.000000</td>\n",
              "      <td>31.000000</td>\n",
              "      <td>53.000000</td>\n",
              "      <td>6.000000</td>\n",
              "      <td>845.000000</td>\n",
              "      <td>845.000000</td>\n",
              "      <td>845.000000</td>\n",
              "      <td>845.000000</td>\n",
              "      <td>845.000000</td>\n",
              "      <td>542.650000</td>\n",
              "      <td>646.690000</td>\n",
              "      <td>663.500000</td>\n",
              "      <td>638.230000</td>\n",
              "      <td>644.380000</td>\n",
              "    </tr>\n",
              "  </tbody>\n",
              "</table>\n",
              "</div>"
            ],
            "text/plain": [
              "        sold_price         year  ...  sold_price_diff_4  sold_price_diff_5\n",
              "count  2027.000000  2027.000000  ...        2027.000000        2027.000000\n",
              "mean    388.541944  2016.324618  ...           0.059013           0.064771\n",
              "std     132.016087     1.617464  ...         122.372282         131.125159\n",
              "min     145.000000  2014.000000  ...        -568.500000        -700.000000\n",
              "25%     280.000000  2015.000000  ...         -28.465000         -31.995000\n",
              "50%     360.000000  2016.000000  ...           0.000000           0.920000\n",
              "75%     470.000000  2018.000000  ...          32.890000          35.885000\n",
              "max     845.000000  2019.000000  ...         638.230000         644.380000\n",
              "\n",
              "[8 rows x 16 columns]"
            ]
          },
          "metadata": {
            "tags": []
          },
          "execution_count": 90
        }
      ]
    },
    {
      "cell_type": "code",
      "metadata": {
        "id": "G97OeA8i5C4f",
        "colab": {
          "base_uri": "https://localhost:8080/",
          "height": 297
        },
        "outputId": "d071e1cf-1f55-4fdf-fabe-cdcf448bbc79"
      },
      "source": [
        "sns.histplot(df4.sold_price,kde=True)"
      ],
      "execution_count": 91,
      "outputs": [
        {
          "output_type": "execute_result",
          "data": {
            "text/plain": [
              "<matplotlib.axes._subplots.AxesSubplot at 0x7f924ff9c0d0>"
            ]
          },
          "metadata": {
            "tags": []
          },
          "execution_count": 91
        },
        {
          "output_type": "display_data",
          "data": {
            "image/png": "[encoded data removed]",
            "text/plain": [
              "<Figure size 432x288 with 1 Axes>"
            ]
          },
          "metadata": {
            "tags": [],
            "needs_background": "light"
          }
        }
      ]
    },
    {
      "cell_type": "markdown",
      "metadata": {
        "id": "wADM-guU5YZx"
      },
      "source": [
        "como podemos ver a variável alvo não segue uma distribuição normal, como visto anteriormente sua média difere da mediana. Existem técnicas para transformá-la em uma normal, que será aplicado mais a frente."
      ]
    },
    {
      "cell_type": "markdown",
      "metadata": {
        "id": "gvY1TG4e6OQO"
      },
      "source": [
        "## **5.2 Tendência do preço**"
      ]
    },
    {
      "cell_type": "code",
      "metadata": {
        "id": "yf04ezsA6Q4R"
      },
      "source": [
        "anual_tend = df4['sold_price'].rolling(window=365,center=True).mean().to_frame()\r\n",
        "mm7        = df4['sold_price'].rolling(window=7,center=True).mean().to_frame()"
      ],
      "execution_count": 92,
      "outputs": []
    },
    {
      "cell_type": "code",
      "metadata": {
        "id": "B0b6AV2g7MP7",
        "colab": {
          "base_uri": "https://localhost:8080/",
          "height": 398
        },
        "outputId": "13ef32d7-ab83-412e-8bed-9a684a7500e5"
      },
      "source": [
        "fig, ax = plt.subplots(figsize = (15,5))\r\n",
        "\r\n",
        "PERIODO_GRAPHIC = 120\r\n",
        "ax.plot(df4['negotiation_date'].dt.strftime('%Y-%m-%d'),df4['sold_price'], marker='.', markersize=5, color='orange',linestyle='None', label='Diário')\r\n",
        "ax.plot(df4['negotiation_date'].dt.strftime('%Y-%m-%d'),mm7['sold_price'], linewidth=2, label='7 dias')\r\n",
        "ax.plot(df4['negotiation_date'].dt.strftime('%Y-%m-%d'),anual_tend['sold_price'], color='0.2', linewidth=3, label='Tendência 1 ano')\r\n",
        "plt.xticks(range(0,df4.shape[0],PERIODO_GRAPHIC),df4['negotiation_date'].dt.date.loc[::PERIODO_GRAPHIC],rotation=90)\r\n",
        "ax.yaxis.set_major_formatter(mtick.FormatStrFormatter('%.2f')) \r\n",
        "ax.legend()\r\n",
        "ax.set_xlabel('Período',fontweight='bold',fontsize=11)\r\n",
        "ax.set_ylabel('Preço',fontweight='bold',fontsize=11)\r\n",
        "plt.grid(True)\r\n",
        "plt.title('Tendência do preço')\r\n",
        "plt.show()"
      ],
      "execution_count": 93,
      "outputs": [
        {
          "output_type": "display_data",
          "data": {
            "image/png": "[encoded data removed]",
            "text/plain": [
              "<Figure size 1080x360 with 1 Axes>"
            ]
          },
          "metadata": {
            "tags": [],
            "needs_background": "light"
          }
        }
      ]
    },
    {
      "cell_type": "markdown",
      "metadata": {
        "id": "9LlKLXWlBTXm"
      },
      "source": [
        "## **6 Transformação dos dados**"
      ]
    },
    {
      "cell_type": "code",
      "metadata": {
        "id": "BOFurZ75BXWQ"
      },
      "source": [
        "df5 = df4.copy()"
      ],
      "execution_count": 170,
      "outputs": []
    },
    {
      "cell_type": "code",
      "metadata": {
        "id": "po4Mrt6igWuX"
      },
      "source": [
        "treino = df5[df5['negotiation_date']<'2019-07-01'].copy()\r\n",
        "teste  = df5[df5['negotiation_date']>='2019-07-01'].copy()"
      ],
      "execution_count": 171,
      "outputs": []
    },
    {
      "cell_type": "code",
      "metadata": {
        "id": "sUR1-IGeBaH3",
        "colab": {
          "base_uri": "https://localhost:8080/"
        },
        "outputId": "3270ee9a-4eab-46b3-f13b-34950b0fc9c8"
      },
      "source": [
        "df5.dtypes"
      ],
      "execution_count": 172,
      "outputs": [
        {
          "output_type": "execute_result",
          "data": {
            "text/plain": [
              "negotiation_date     datetime64[ns]\n",
              "sold_price                  float64\n",
              "year                          int64\n",
              "month                         int64\n",
              "day                           int64\n",
              "week_of_year                 UInt32\n",
              "year_week                    object\n",
              "day_week                      int64\n",
              "sold_price_lag_1            float64\n",
              "sold_price_lag_2            float64\n",
              "sold_price_lag_3            float64\n",
              "sold_price_lag_4            float64\n",
              "sold_price_lag_5            float64\n",
              "sold_price_diff_1           float64\n",
              "sold_price_diff_2           float64\n",
              "sold_price_diff_3           float64\n",
              "sold_price_diff_4           float64\n",
              "sold_price_diff_5           float64\n",
              "dtype: object"
            ]
          },
          "metadata": {
            "tags": []
          },
          "execution_count": 172
        }
      ]
    },
    {
      "cell_type": "code",
      "metadata": {
        "id": "1QVRU4BqBcHK"
      },
      "source": [
        "numerics = df5[['sold_price','sold_price_lag_1','year','sold_price_lag_2','sold_price_diff_1','sold_price_diff_2']]"
      ],
      "execution_count": 173,
      "outputs": []
    },
    {
      "cell_type": "code",
      "metadata": {
        "id": "9uuVD02VBl55",
        "colab": {
          "base_uri": "https://localhost:8080/",
          "height": 242
        },
        "outputId": "1ac39632-66d7-4038-fa30-2144f9cbb68d"
      },
      "source": [
        "boxplots(numerics)"
      ],
      "execution_count": 174,
      "outputs": [
        {
          "output_type": "display_data",
          "data": {
            "image/png": "[encoded data removed]",
            "text/plain": [
              "<Figure size 432x288 with 6 Axes>"
            ]
          },
          "metadata": {
            "tags": [],
            "needs_background": "light"
          }
        }
      ]
    },
    {
      "cell_type": "markdown",
      "metadata": {
        "id": "K3JmG30MYTIh"
      },
      "source": [
        "* Conforme boxplots acima, os atributos sold_price_lag_1, sold_price_lag_2 possuem outliers, entretanto eles estão bem próximos do whisker superior, já os demais como sold_price_diff_1 ... sold_price_diff_5 possuem muitos outliers."
      ]
    },
    {
      "cell_type": "code",
      "metadata": {
        "id": "D7T1-nsxCRp0"
      },
      "source": [
        "mms = MinMaxScaler()\r\n",
        "rs = RobustScaler()"
      ],
      "execution_count": 175,
      "outputs": []
    },
    {
      "cell_type": "markdown",
      "metadata": {
        "id": "a2_tC6DHYpTk"
      },
      "source": [
        "Transformando a nossa variável de saída em uma transformação normal através da função logarítimica"
      ]
    },
    {
      "cell_type": "code",
      "metadata": {
        "id": "yD7ytMioCJ8E"
      },
      "source": [
        "treino['sold_price'] = np.log1p(treino['sold_price'])"
      ],
      "execution_count": 176,
      "outputs": []
    },
    {
      "cell_type": "code",
      "metadata": {
        "id": "MyPKBE-ACbVU"
      },
      "source": [
        "for i in range(1,6):\r\n",
        "  treino['sold_price_lag_{}'.format(i)] = mms.fit_transform(treino[['sold_price_lag_{}'.format(i)]])\r\n",
        "  jb.dump(mms,open('./scaler_price_lag_{}'.format(i)+'.pkl','wb'))"
      ],
      "execution_count": 177,
      "outputs": []
    },
    {
      "cell_type": "code",
      "metadata": {
        "id": "IEXPczpcPsrD"
      },
      "source": [
        "for i in range(1,6):\r\n",
        "  treino['sold_price_diff_{}'.format(i)] = rs.fit_transform(treino[['sold_price_diff_{}'.format(i)]])\r\n",
        "  jb.dump(rs,open('./scaler_price_diff_{}'.format(i)+'.pkl','wb'))  "
      ],
      "execution_count": 178,
      "outputs": []
    },
    {
      "cell_type": "code",
      "metadata": {
        "id": "i5RU9kSZa-dE"
      },
      "source": [
        "treino['year'] =  mms.fit_transform(treino[['year']])\r\n",
        "jb.dump(mms,open('./scaler_year.pkl','wb'))"
      ],
      "execution_count": 179,
      "outputs": []
    },
    {
      "cell_type": "code",
      "metadata": {
        "id": "5KoIRChGEiNV"
      },
      "source": [
        "treino['month_sin'] = treino['month'].apply(lambda x: np.sin(x * (2* np.pi/12)))\r\n",
        "treino['month_cos'] = treino['month'].apply(lambda x: np.cos(x * (2* np.pi/12)))\r\n",
        "\r\n",
        "treino['week_of_year_sin'] =treino['week_of_year'].apply(lambda x: np.sin(x * (2*np.pi/52)))\r\n",
        "treino['week_of_year_cos'] =treino['week_of_year'].apply(lambda x: np.cos(x * (2*np.pi/52)))\r\n",
        "\r\n",
        "treino['day_sin'] = treino['day'].apply(lambda x: np.sin(x * (2*np.pi/30)))\r\n",
        "treino['day_cos'] = treino['day'].apply(lambda x: np.cos(x * (2*np.pi/30)))\r\n",
        "\r\n",
        "treino['day_week_sin'] = treino['day_week'].apply(lambda x: np.sin(x * (2*np.pi/7)))\r\n",
        "treino['day_week_cos'] = treino['day_week'].apply(lambda x: np.cos(x * (2*np.pi/7)))\r\n",
        "\r\n",
        "teste['month_sin'] = teste['month'].apply(lambda x: np.sin(x * (2* np.pi/12)))\r\n",
        "teste['month_cos'] = teste['month'].apply(lambda x: np.cos(x * (2* np.pi/12)))\r\n",
        "\r\n",
        "teste['week_of_year_sin'] =teste['week_of_year'].apply(lambda x: np.sin(x * (2*np.pi/52)))\r\n",
        "teste['week_of_year_cos'] =teste['week_of_year'].apply(lambda x: np.cos(x * (2*np.pi/52)))\r\n",
        "\r\n",
        "teste['day_sin'] = teste['day'].apply(lambda x: np.sin(x * (2*np.pi/30)))\r\n",
        "teste['day_cos'] = teste['day'].apply(lambda x: np.cos(x * (2*np.pi/30)))\r\n",
        "\r\n",
        "teste['day_week_sin'] = teste['day_week'].apply(lambda x: np.sin(x * (2*np.pi/7)))\r\n",
        "teste['day_week_cos'] = teste['day_week'].apply(lambda x: np.cos(x * (2*np.pi/7)))"
      ],
      "execution_count": 180,
      "outputs": []
    },
    {
      "cell_type": "markdown",
      "metadata": {
        "id": "9RLV73Y4fT5Z"
      },
      "source": [
        "# **7 Seleção de Features**"
      ]
    },
    {
      "cell_type": "code",
      "metadata": {
        "id": "A0eSEkoBhIoR"
      },
      "source": [
        "df6 = treino.copy()"
      ],
      "execution_count": 181,
      "outputs": []
    },
    {
      "cell_type": "code",
      "metadata": {
        "id": "qkXRL3kNo0i5"
      },
      "source": [
        "df6.drop(['week_of_year','day','month','year_week','day_week'],axis=1,inplace=True)\r\n",
        "teste.drop(['week_of_year','day','month','year_week','day_week'],axis=1,inplace=True)"
      ],
      "execution_count": 182,
      "outputs": []
    },
    {
      "cell_type": "code",
      "metadata": {
        "id": "gZ3H4E9QhLH9",
        "colab": {
          "base_uri": "https://localhost:8080/",
          "height": 309
        },
        "outputId": "dd53e5e0-ef18-478b-9755-3c7343cb9aac"
      },
      "source": [
        "df6.head()"
      ],
      "execution_count": 183,
      "outputs": [
        {
          "output_type": "execute_result",
          "data": {
            "text/html": [
              "<div>\n",
              "<style scoped>\n",
              "    .dataframe tbody tr th:only-of-type {\n",
              "        vertical-align: middle;\n",
              "    }\n",
              "\n",
              "    .dataframe tbody tr th {\n",
              "        vertical-align: top;\n",
              "    }\n",
              "\n",
              "    .dataframe thead th {\n",
              "        text-align: right;\n",
              "    }\n",
              "</style>\n",
              "<table border=\"1\" class=\"dataframe\">\n",
              "  <thead>\n",
              "    <tr style=\"text-align: right;\">\n",
              "      <th></th>\n",
              "      <th>negotiation_date</th>\n",
              "      <th>sold_price</th>\n",
              "      <th>year</th>\n",
              "      <th>sold_price_lag_1</th>\n",
              "      <th>sold_price_lag_2</th>\n",
              "      <th>sold_price_lag_3</th>\n",
              "      <th>sold_price_lag_4</th>\n",
              "      <th>sold_price_lag_5</th>\n",
              "      <th>sold_price_diff_1</th>\n",
              "      <th>sold_price_diff_2</th>\n",
              "      <th>sold_price_diff_3</th>\n",
              "      <th>sold_price_diff_4</th>\n",
              "      <th>sold_price_diff_5</th>\n",
              "      <th>month_sin</th>\n",
              "      <th>month_cos</th>\n",
              "      <th>week_of_year_sin</th>\n",
              "      <th>week_of_year_cos</th>\n",
              "      <th>day_sin</th>\n",
              "      <th>day_cos</th>\n",
              "      <th>day_week_sin</th>\n",
              "      <th>day_week_cos</th>\n",
              "    </tr>\n",
              "  </thead>\n",
              "  <tbody>\n",
              "    <tr>\n",
              "      <th>5</th>\n",
              "      <td>2014-01-12</td>\n",
              "      <td>5.525453</td>\n",
              "      <td>0.0</td>\n",
              "      <td>0.151014</td>\n",
              "      <td>0.255714</td>\n",
              "      <td>0.214286</td>\n",
              "      <td>0.222386</td>\n",
              "      <td>0.233329</td>\n",
              "      <td>-0.027549</td>\n",
              "      <td>-1.716141</td>\n",
              "      <td>-0.838340</td>\n",
              "      <td>-0.819141</td>\n",
              "      <td>-0.863678</td>\n",
              "      <td>0.5</td>\n",
              "      <td>0.866025</td>\n",
              "      <td>0.239316</td>\n",
              "      <td>0.970942</td>\n",
              "      <td>5.877853e-01</td>\n",
              "      <td>-0.809017</td>\n",
              "      <td>-0.781831</td>\n",
              "      <td>0.623490</td>\n",
              "    </tr>\n",
              "    <tr>\n",
              "      <th>6</th>\n",
              "      <td>2014-01-13</td>\n",
              "      <td>5.525453</td>\n",
              "      <td>0.0</td>\n",
              "      <td>0.150000</td>\n",
              "      <td>0.151014</td>\n",
              "      <td>0.255714</td>\n",
              "      <td>0.214286</td>\n",
              "      <td>0.222386</td>\n",
              "      <td>0.000000</td>\n",
              "      <td>-0.016466</td>\n",
              "      <td>-1.378604</td>\n",
              "      <td>-0.727478</td>\n",
              "      <td>-0.752085</td>\n",
              "      <td>0.5</td>\n",
              "      <td>0.866025</td>\n",
              "      <td>0.354605</td>\n",
              "      <td>0.935016</td>\n",
              "      <td>4.067366e-01</td>\n",
              "      <td>-0.913545</td>\n",
              "      <td>0.000000</td>\n",
              "      <td>1.000000</td>\n",
              "    </tr>\n",
              "    <tr>\n",
              "      <th>7</th>\n",
              "      <td>2014-01-14</td>\n",
              "      <td>5.525453</td>\n",
              "      <td>0.0</td>\n",
              "      <td>0.150000</td>\n",
              "      <td>0.150000</td>\n",
              "      <td>0.151014</td>\n",
              "      <td>0.255714</td>\n",
              "      <td>0.214286</td>\n",
              "      <td>0.000000</td>\n",
              "      <td>0.000000</td>\n",
              "      <td>-0.013227</td>\n",
              "      <td>-1.196298</td>\n",
              "      <td>-0.669483</td>\n",
              "      <td>0.5</td>\n",
              "      <td>0.866025</td>\n",
              "      <td>0.354605</td>\n",
              "      <td>0.935016</td>\n",
              "      <td>2.079117e-01</td>\n",
              "      <td>-0.978148</td>\n",
              "      <td>0.781831</td>\n",
              "      <td>0.623490</td>\n",
              "    </tr>\n",
              "    <tr>\n",
              "      <th>8</th>\n",
              "      <td>2014-01-15</td>\n",
              "      <td>5.723585</td>\n",
              "      <td>0.0</td>\n",
              "      <td>0.150000</td>\n",
              "      <td>0.150000</td>\n",
              "      <td>0.150000</td>\n",
              "      <td>0.151014</td>\n",
              "      <td>0.255714</td>\n",
              "      <td>2.134058</td>\n",
              "      <td>1.275510</td>\n",
              "      <td>1.024638</td>\n",
              "      <td>0.877662</td>\n",
              "      <td>-0.290709</td>\n",
              "      <td>0.5</td>\n",
              "      <td>0.866025</td>\n",
              "      <td>0.354605</td>\n",
              "      <td>0.935016</td>\n",
              "      <td>1.224647e-16</td>\n",
              "      <td>-1.000000</td>\n",
              "      <td>0.974928</td>\n",
              "      <td>-0.222521</td>\n",
              "    </tr>\n",
              "    <tr>\n",
              "      <th>9</th>\n",
              "      <td>2014-01-16</td>\n",
              "      <td>5.723585</td>\n",
              "      <td>0.0</td>\n",
              "      <td>0.228571</td>\n",
              "      <td>0.150000</td>\n",
              "      <td>0.150000</td>\n",
              "      <td>0.150000</td>\n",
              "      <td>0.151014</td>\n",
              "      <td>0.000000</td>\n",
              "      <td>1.275510</td>\n",
              "      <td>1.024638</td>\n",
              "      <td>0.889140</td>\n",
              "      <td>0.776997</td>\n",
              "      <td>0.5</td>\n",
              "      <td>0.866025</td>\n",
              "      <td>0.354605</td>\n",
              "      <td>0.935016</td>\n",
              "      <td>-2.079117e-01</td>\n",
              "      <td>-0.978148</td>\n",
              "      <td>0.433884</td>\n",
              "      <td>-0.900969</td>\n",
              "    </tr>\n",
              "  </tbody>\n",
              "</table>\n",
              "</div>"
            ],
            "text/plain": [
              "  negotiation_date  sold_price  year  ...   day_cos  day_week_sin  day_week_cos\n",
              "5       2014-01-12    5.525453   0.0  ... -0.809017     -0.781831      0.623490\n",
              "6       2014-01-13    5.525453   0.0  ... -0.913545      0.000000      1.000000\n",
              "7       2014-01-14    5.525453   0.0  ... -0.978148      0.781831      0.623490\n",
              "8       2014-01-15    5.723585   0.0  ... -1.000000      0.974928     -0.222521\n",
              "9       2014-01-16    5.723585   0.0  ... -0.978148      0.433884     -0.900969\n",
              "\n",
              "[5 rows x 21 columns]"
            ]
          },
          "metadata": {
            "tags": []
          },
          "execution_count": 183
        }
      ]
    },
    {
      "cell_type": "code",
      "metadata": {
        "id": "_MDLBNyfnJeZ",
        "colab": {
          "base_uri": "https://localhost:8080/"
        },
        "outputId": "8c0c955a-cbf2-469f-c568-b53c2f474d3e"
      },
      "source": [
        "X_train_n = df6.drop(['sold_price','negotiation_date'],axis=1).values\r\n",
        "y_train_n = df6['sold_price'].values\r\n",
        "x=df6.drop(['sold_price','negotiation_date'],axis=1)\r\n",
        "y=df6['sold_price']\r\n",
        "rf = RandomForestRegressor(n_estimators=300)\r\n",
        "\r\n",
        "boruta = BorutaPy(rf,n_estimators='auto',verbose=2,random_state=41)\r\n",
        "boruta.fit(X_train_n,y_train_n)"
      ],
      "execution_count": 184,
      "outputs": [
        {
          "output_type": "stream",
          "text": [
            "Iteration: \t1 / 100\n",
            "Confirmed: \t0\n",
            "Tentative: \t19\n",
            "Rejected: \t0\n",
            "Iteration: \t2 / 100\n",
            "Confirmed: \t0\n",
            "Tentative: \t19\n",
            "Rejected: \t0\n",
            "Iteration: \t3 / 100\n",
            "Confirmed: \t0\n",
            "Tentative: \t19\n",
            "Rejected: \t0\n",
            "Iteration: \t4 / 100\n",
            "Confirmed: \t0\n",
            "Tentative: \t19\n",
            "Rejected: \t0\n",
            "Iteration: \t5 / 100\n",
            "Confirmed: \t0\n",
            "Tentative: \t19\n",
            "Rejected: \t0\n",
            "Iteration: \t6 / 100\n",
            "Confirmed: \t0\n",
            "Tentative: \t19\n",
            "Rejected: \t0\n",
            "Iteration: \t7 / 100\n",
            "Confirmed: \t0\n",
            "Tentative: \t19\n",
            "Rejected: \t0\n",
            "Iteration: \t8 / 100\n",
            "Confirmed: \t8\n",
            "Tentative: \t3\n",
            "Rejected: \t8\n",
            "Iteration: \t9 / 100\n",
            "Confirmed: \t8\n",
            "Tentative: \t3\n",
            "Rejected: \t8\n",
            "Iteration: \t10 / 100\n",
            "Confirmed: \t8\n",
            "Tentative: \t3\n",
            "Rejected: \t8\n",
            "Iteration: \t11 / 100\n",
            "Confirmed: \t8\n",
            "Tentative: \t3\n",
            "Rejected: \t8\n",
            "Iteration: \t12 / 100\n",
            "Confirmed: \t8\n",
            "Tentative: \t3\n",
            "Rejected: \t8\n",
            "Iteration: \t13 / 100\n",
            "Confirmed: \t8\n",
            "Tentative: \t3\n",
            "Rejected: \t8\n",
            "Iteration: \t14 / 100\n",
            "Confirmed: \t8\n",
            "Tentative: \t3\n",
            "Rejected: \t8\n",
            "Iteration: \t15 / 100\n",
            "Confirmed: \t8\n",
            "Tentative: \t3\n",
            "Rejected: \t8\n",
            "Iteration: \t16 / 100\n",
            "Confirmed: \t8\n",
            "Tentative: \t3\n",
            "Rejected: \t8\n",
            "Iteration: \t17 / 100\n",
            "Confirmed: \t8\n",
            "Tentative: \t3\n",
            "Rejected: \t8\n",
            "Iteration: \t18 / 100\n",
            "Confirmed: \t8\n",
            "Tentative: \t3\n",
            "Rejected: \t8\n",
            "Iteration: \t19 / 100\n",
            "Confirmed: \t8\n",
            "Tentative: \t3\n",
            "Rejected: \t8\n",
            "Iteration: \t20 / 100\n",
            "Confirmed: \t8\n",
            "Tentative: \t3\n",
            "Rejected: \t8\n",
            "Iteration: \t21 / 100\n",
            "Confirmed: \t8\n",
            "Tentative: \t3\n",
            "Rejected: \t8\n",
            "Iteration: \t22 / 100\n",
            "Confirmed: \t8\n",
            "Tentative: \t2\n",
            "Rejected: \t9\n",
            "Iteration: \t23 / 100\n",
            "Confirmed: \t8\n",
            "Tentative: \t2\n",
            "Rejected: \t9\n",
            "Iteration: \t24 / 100\n",
            "Confirmed: \t8\n",
            "Tentative: \t2\n",
            "Rejected: \t9\n",
            "Iteration: \t25 / 100\n",
            "Confirmed: \t8\n",
            "Tentative: \t2\n",
            "Rejected: \t9\n",
            "Iteration: \t26 / 100\n",
            "Confirmed: \t8\n",
            "Tentative: \t2\n",
            "Rejected: \t9\n",
            "Iteration: \t27 / 100\n",
            "Confirmed: \t8\n",
            "Tentative: \t2\n",
            "Rejected: \t9\n",
            "Iteration: \t28 / 100\n",
            "Confirmed: \t8\n",
            "Tentative: \t2\n",
            "Rejected: \t9\n",
            "Iteration: \t29 / 100\n",
            "Confirmed: \t8\n",
            "Tentative: \t1\n",
            "Rejected: \t10\n",
            "Iteration: \t30 / 100\n",
            "Confirmed: \t8\n",
            "Tentative: \t1\n",
            "Rejected: \t10\n",
            "Iteration: \t31 / 100\n",
            "Confirmed: \t8\n",
            "Tentative: \t1\n",
            "Rejected: \t10\n",
            "Iteration: \t32 / 100\n",
            "Confirmed: \t8\n",
            "Tentative: \t1\n",
            "Rejected: \t10\n",
            "Iteration: \t33 / 100\n",
            "Confirmed: \t8\n",
            "Tentative: \t1\n",
            "Rejected: \t10\n",
            "Iteration: \t34 / 100\n",
            "Confirmed: \t8\n",
            "Tentative: \t1\n",
            "Rejected: \t10\n",
            "Iteration: \t35 / 100\n",
            "Confirmed: \t8\n",
            "Tentative: \t1\n",
            "Rejected: \t10\n",
            "Iteration: \t36 / 100\n",
            "Confirmed: \t8\n",
            "Tentative: \t1\n",
            "Rejected: \t10\n",
            "Iteration: \t37 / 100\n",
            "Confirmed: \t8\n",
            "Tentative: \t1\n",
            "Rejected: \t10\n",
            "Iteration: \t38 / 100\n",
            "Confirmed: \t8\n",
            "Tentative: \t1\n",
            "Rejected: \t10\n",
            "Iteration: \t39 / 100\n",
            "Confirmed: \t8\n",
            "Tentative: \t1\n",
            "Rejected: \t10\n",
            "Iteration: \t40 / 100\n",
            "Confirmed: \t8\n",
            "Tentative: \t1\n",
            "Rejected: \t10\n",
            "Iteration: \t41 / 100\n",
            "Confirmed: \t8\n",
            "Tentative: \t1\n",
            "Rejected: \t10\n",
            "Iteration: \t42 / 100\n",
            "Confirmed: \t8\n",
            "Tentative: \t1\n",
            "Rejected: \t10\n",
            "Iteration: \t43 / 100\n",
            "Confirmed: \t8\n",
            "Tentative: \t1\n",
            "Rejected: \t10\n",
            "Iteration: \t44 / 100\n",
            "Confirmed: \t8\n",
            "Tentative: \t1\n",
            "Rejected: \t10\n",
            "Iteration: \t45 / 100\n",
            "Confirmed: \t8\n",
            "Tentative: \t1\n",
            "Rejected: \t10\n",
            "Iteration: \t46 / 100\n",
            "Confirmed: \t8\n",
            "Tentative: \t1\n",
            "Rejected: \t10\n",
            "Iteration: \t47 / 100\n",
            "Confirmed: \t8\n",
            "Tentative: \t1\n",
            "Rejected: \t10\n",
            "Iteration: \t48 / 100\n",
            "Confirmed: \t8\n",
            "Tentative: \t1\n",
            "Rejected: \t10\n",
            "Iteration: \t49 / 100\n",
            "Confirmed: \t8\n",
            "Tentative: \t1\n",
            "Rejected: \t10\n",
            "Iteration: \t50 / 100\n",
            "Confirmed: \t8\n",
            "Tentative: \t1\n",
            "Rejected: \t10\n",
            "Iteration: \t51 / 100\n",
            "Confirmed: \t8\n",
            "Tentative: \t1\n",
            "Rejected: \t10\n",
            "Iteration: \t52 / 100\n",
            "Confirmed: \t8\n",
            "Tentative: \t1\n",
            "Rejected: \t10\n",
            "Iteration: \t53 / 100\n",
            "Confirmed: \t8\n",
            "Tentative: \t1\n",
            "Rejected: \t10\n",
            "Iteration: \t54 / 100\n",
            "Confirmed: \t8\n",
            "Tentative: \t1\n",
            "Rejected: \t10\n",
            "Iteration: \t55 / 100\n",
            "Confirmed: \t8\n",
            "Tentative: \t1\n",
            "Rejected: \t10\n",
            "Iteration: \t56 / 100\n",
            "Confirmed: \t8\n",
            "Tentative: \t1\n",
            "Rejected: \t10\n",
            "Iteration: \t57 / 100\n",
            "Confirmed: \t8\n",
            "Tentative: \t1\n",
            "Rejected: \t10\n",
            "Iteration: \t58 / 100\n",
            "Confirmed: \t8\n",
            "Tentative: \t1\n",
            "Rejected: \t10\n",
            "Iteration: \t59 / 100\n",
            "Confirmed: \t8\n",
            "Tentative: \t1\n",
            "Rejected: \t10\n",
            "Iteration: \t60 / 100\n",
            "Confirmed: \t8\n",
            "Tentative: \t1\n",
            "Rejected: \t10\n",
            "Iteration: \t61 / 100\n",
            "Confirmed: \t8\n",
            "Tentative: \t1\n",
            "Rejected: \t10\n",
            "Iteration: \t62 / 100\n",
            "Confirmed: \t8\n",
            "Tentative: \t1\n",
            "Rejected: \t10\n",
            "Iteration: \t63 / 100\n",
            "Confirmed: \t8\n",
            "Tentative: \t1\n",
            "Rejected: \t10\n",
            "Iteration: \t64 / 100\n",
            "Confirmed: \t8\n",
            "Tentative: \t1\n",
            "Rejected: \t10\n",
            "Iteration: \t65 / 100\n",
            "Confirmed: \t8\n",
            "Tentative: \t1\n",
            "Rejected: \t10\n",
            "Iteration: \t66 / 100\n",
            "Confirmed: \t8\n",
            "Tentative: \t1\n",
            "Rejected: \t10\n",
            "Iteration: \t67 / 100\n",
            "Confirmed: \t8\n",
            "Tentative: \t1\n",
            "Rejected: \t10\n",
            "Iteration: \t68 / 100\n",
            "Confirmed: \t8\n",
            "Tentative: \t1\n",
            "Rejected: \t10\n",
            "Iteration: \t69 / 100\n",
            "Confirmed: \t8\n",
            "Tentative: \t1\n",
            "Rejected: \t10\n",
            "Iteration: \t70 / 100\n",
            "Confirmed: \t8\n",
            "Tentative: \t1\n",
            "Rejected: \t10\n",
            "Iteration: \t71 / 100\n",
            "Confirmed: \t8\n",
            "Tentative: \t1\n",
            "Rejected: \t10\n",
            "Iteration: \t72 / 100\n",
            "Confirmed: \t8\n",
            "Tentative: \t1\n",
            "Rejected: \t10\n",
            "Iteration: \t73 / 100\n",
            "Confirmed: \t8\n",
            "Tentative: \t1\n",
            "Rejected: \t10\n",
            "Iteration: \t74 / 100\n",
            "Confirmed: \t8\n",
            "Tentative: \t1\n",
            "Rejected: \t10\n",
            "Iteration: \t75 / 100\n",
            "Confirmed: \t8\n",
            "Tentative: \t1\n",
            "Rejected: \t10\n",
            "Iteration: \t76 / 100\n",
            "Confirmed: \t8\n",
            "Tentative: \t1\n",
            "Rejected: \t10\n",
            "Iteration: \t77 / 100\n",
            "Confirmed: \t8\n",
            "Tentative: \t1\n",
            "Rejected: \t10\n",
            "Iteration: \t78 / 100\n",
            "Confirmed: \t8\n",
            "Tentative: \t1\n",
            "Rejected: \t10\n",
            "Iteration: \t79 / 100\n",
            "Confirmed: \t8\n",
            "Tentative: \t1\n",
            "Rejected: \t10\n",
            "Iteration: \t80 / 100\n",
            "Confirmed: \t8\n",
            "Tentative: \t1\n",
            "Rejected: \t10\n",
            "Iteration: \t81 / 100\n",
            "Confirmed: \t8\n",
            "Tentative: \t1\n",
            "Rejected: \t10\n",
            "Iteration: \t82 / 100\n",
            "Confirmed: \t8\n",
            "Tentative: \t1\n",
            "Rejected: \t10\n",
            "Iteration: \t83 / 100\n",
            "Confirmed: \t8\n",
            "Tentative: \t1\n",
            "Rejected: \t10\n",
            "Iteration: \t84 / 100\n",
            "Confirmed: \t8\n",
            "Tentative: \t1\n",
            "Rejected: \t10\n",
            "Iteration: \t85 / 100\n",
            "Confirmed: \t8\n",
            "Tentative: \t1\n",
            "Rejected: \t10\n",
            "Iteration: \t86 / 100\n",
            "Confirmed: \t8\n",
            "Tentative: \t1\n",
            "Rejected: \t10\n",
            "Iteration: \t87 / 100\n",
            "Confirmed: \t8\n",
            "Tentative: \t1\n",
            "Rejected: \t10\n",
            "Iteration: \t88 / 100\n",
            "Confirmed: \t8\n",
            "Tentative: \t1\n",
            "Rejected: \t10\n",
            "Iteration: \t89 / 100\n",
            "Confirmed: \t8\n",
            "Tentative: \t1\n",
            "Rejected: \t10\n",
            "Iteration: \t90 / 100\n",
            "Confirmed: \t8\n",
            "Tentative: \t1\n",
            "Rejected: \t10\n",
            "Iteration: \t91 / 100\n",
            "Confirmed: \t8\n",
            "Tentative: \t1\n",
            "Rejected: \t10\n",
            "Iteration: \t92 / 100\n",
            "Confirmed: \t8\n",
            "Tentative: \t1\n",
            "Rejected: \t10\n",
            "Iteration: \t93 / 100\n",
            "Confirmed: \t8\n",
            "Tentative: \t1\n",
            "Rejected: \t10\n",
            "Iteration: \t94 / 100\n",
            "Confirmed: \t8\n",
            "Tentative: \t1\n",
            "Rejected: \t10\n",
            "Iteration: \t95 / 100\n",
            "Confirmed: \t8\n",
            "Tentative: \t1\n",
            "Rejected: \t10\n",
            "Iteration: \t96 / 100\n",
            "Confirmed: \t8\n",
            "Tentative: \t1\n",
            "Rejected: \t10\n",
            "Iteration: \t97 / 100\n",
            "Confirmed: \t8\n",
            "Tentative: \t1\n",
            "Rejected: \t10\n",
            "Iteration: \t98 / 100\n",
            "Confirmed: \t8\n",
            "Tentative: \t1\n",
            "Rejected: \t10\n",
            "Iteration: \t99 / 100\n",
            "Confirmed: \t8\n",
            "Tentative: \t1\n",
            "Rejected: \t10\n",
            "\n",
            "\n",
            "BorutaPy finished running.\n",
            "\n",
            "Iteration: \t100 / 100\n",
            "Confirmed: \t8\n",
            "Tentative: \t1\n",
            "Rejected: \t10\n"
          ],
          "name": "stdout"
        },
        {
          "output_type": "execute_result",
          "data": {
            "text/plain": [
              "BorutaPy(alpha=0.05,\n",
              "         estimator=RandomForestRegressor(bootstrap=True, ccp_alpha=0.0,\n",
              "                                         criterion='mse', max_depth=None,\n",
              "                                         max_features='auto',\n",
              "                                         max_leaf_nodes=None, max_samples=None,\n",
              "                                         min_impurity_decrease=0.0,\n",
              "                                         min_impurity_split=None,\n",
              "                                         min_samples_leaf=1,\n",
              "                                         min_samples_split=2,\n",
              "                                         min_weight_fraction_leaf=0.0,\n",
              "                                         n_estimators=42, n_jobs=None,\n",
              "                                         oob_score=False,\n",
              "                                         random_state=RandomState(MT19937) at 0x7F924FEB5C00,\n",
              "                                         verbose=0, warm_start=False),\n",
              "         max_iter=100, n_estimators='auto', perc=100,\n",
              "         random_state=RandomState(MT19937) at 0x7F924FEB5C00, two_step=True,\n",
              "         verbose=2)"
            ]
          },
          "metadata": {
            "tags": []
          },
          "execution_count": 184
        }
      ]
    },
    {
      "cell_type": "code",
      "metadata": {
        "id": "KQBvaphwrxiv",
        "colab": {
          "base_uri": "https://localhost:8080/"
        },
        "outputId": "9617e5ff-3f18-4d0c-8b8a-ab918636d439"
      },
      "source": [
        "cols_select_boruta = boruta.support_.tolist()\r\n",
        "print('Colunas selecionadas pelo boruta')\r\n",
        "check_columns = df6.drop(['sold_price','negotiation_date'],axis=1)\r\n",
        "cols_select_boruta\r\n",
        "colunas_selecionadas = check_columns.columns[cols_select_boruta]\r\n",
        "colunas_selecionadas\r\n",
        "colunas_selecionadas=colunas_selecionadas.tolist()\r\n",
        "colunas_selecionadas.extend(['negotiation_date','sold_price'])"
      ],
      "execution_count": 185,
      "outputs": [
        {
          "output_type": "stream",
          "text": [
            "Colunas selecionadas pelo boruta\n"
          ],
          "name": "stdout"
        }
      ]
    },
    {
      "cell_type": "code",
      "metadata": {
        "id": "ydDAvpTjtE9D",
        "colab": {
          "base_uri": "https://localhost:8080/"
        },
        "outputId": "67759772-f014-4a33-9e71-2363278783fc"
      },
      "source": [
        "colunas_selecionadas"
      ],
      "execution_count": 186,
      "outputs": [
        {
          "output_type": "execute_result",
          "data": {
            "text/plain": [
              "['sold_price_lag_1',\n",
              " 'sold_price_lag_2',\n",
              " 'sold_price_diff_1',\n",
              " 'sold_price_diff_2',\n",
              " 'sold_price_diff_3',\n",
              " 'sold_price_diff_4',\n",
              " 'sold_price_diff_5',\n",
              " 'day_sin',\n",
              " 'negotiation_date',\n",
              " 'sold_price']"
            ]
          },
          "metadata": {
            "tags": []
          },
          "execution_count": 186
        }
      ]
    },
    {
      "cell_type": "code",
      "metadata": {
        "id": "rdUGyhaDtaxT"
      },
      "source": [
        "df6 = df6[colunas_selecionadas]\r\n",
        "treino = treino[colunas_selecionadas]\r\n",
        "teste = teste[colunas_selecionadas]"
      ],
      "execution_count": 187,
      "outputs": []
    },
    {
      "cell_type": "markdown",
      "metadata": {
        "id": "07tns6pI9oqp"
      },
      "source": [
        "# **8 Modelos de Machine Learning**"
      ]
    },
    {
      "cell_type": "markdown",
      "metadata": {
        "id": "Z2wl-LM977Cy"
      },
      "source": [
        "## **8.1 Separando os dados de treino e teste**"
      ]
    },
    {
      "cell_type": "code",
      "metadata": {
        "id": "juMUxfQu95SU",
        "colab": {
          "base_uri": "https://localhost:8080/",
          "height": 309
        },
        "outputId": "795a4c10-645c-478d-95e6-25f220e5ad73"
      },
      "source": [
        "treino.tail()"
      ],
      "execution_count": 188,
      "outputs": [
        {
          "output_type": "execute_result",
          "data": {
            "text/html": [
              "<div>\n",
              "<style scoped>\n",
              "    .dataframe tbody tr th:only-of-type {\n",
              "        vertical-align: middle;\n",
              "    }\n",
              "\n",
              "    .dataframe tbody tr th {\n",
              "        vertical-align: top;\n",
              "    }\n",
              "\n",
              "    .dataframe thead th {\n",
              "        text-align: right;\n",
              "    }\n",
              "</style>\n",
              "<table border=\"1\" class=\"dataframe\">\n",
              "  <thead>\n",
              "    <tr style=\"text-align: right;\">\n",
              "      <th></th>\n",
              "      <th>sold_price_lag_1</th>\n",
              "      <th>sold_price_lag_2</th>\n",
              "      <th>sold_price_diff_1</th>\n",
              "      <th>sold_price_diff_2</th>\n",
              "      <th>sold_price_diff_3</th>\n",
              "      <th>sold_price_diff_4</th>\n",
              "      <th>sold_price_diff_5</th>\n",
              "      <th>day_sin</th>\n",
              "      <th>negotiation_date</th>\n",
              "      <th>sold_price</th>\n",
              "    </tr>\n",
              "  </thead>\n",
              "  <tbody>\n",
              "    <tr>\n",
              "      <th>1996</th>\n",
              "      <td>0.273814</td>\n",
              "      <td>0.242857</td>\n",
              "      <td>-0.864875</td>\n",
              "      <td>-0.014378</td>\n",
              "      <td>-0.197848</td>\n",
              "      <td>-0.056258</td>\n",
              "      <td>-0.144298</td>\n",
              "      <td>-7.431448e-01</td>\n",
              "      <td>2019-06-26</td>\n",
              "      <td>5.753778</td>\n",
              "    </tr>\n",
              "    <tr>\n",
              "      <th>1997</th>\n",
              "      <td>0.241971</td>\n",
              "      <td>0.273814</td>\n",
              "      <td>0.097003</td>\n",
              "      <td>-0.458952</td>\n",
              "      <td>0.035024</td>\n",
              "      <td>-0.131269</td>\n",
              "      <td>-0.028190</td>\n",
              "      <td>-5.877853e-01</td>\n",
              "      <td>2019-06-27</td>\n",
              "      <td>5.761674</td>\n",
              "    </tr>\n",
              "    <tr>\n",
              "      <th>1998</th>\n",
              "      <td>0.245543</td>\n",
              "      <td>0.241971</td>\n",
              "      <td>0.315065</td>\n",
              "      <td>0.246289</td>\n",
              "      <td>-0.217410</td>\n",
              "      <td>0.161662</td>\n",
              "      <td>-0.013913</td>\n",
              "      <td>-4.067366e-01</td>\n",
              "      <td>2019-06-28</td>\n",
              "      <td>5.786897</td>\n",
              "    </tr>\n",
              "    <tr>\n",
              "      <th>1999</th>\n",
              "      <td>0.257143</td>\n",
              "      <td>0.245543</td>\n",
              "      <td>0.582016</td>\n",
              "      <td>0.536178</td>\n",
              "      <td>0.477295</td>\n",
              "      <td>0.053833</td>\n",
              "      <td>0.350293</td>\n",
              "      <td>-2.079117e-01</td>\n",
              "      <td>2019-06-29</td>\n",
              "      <td>5.831882</td>\n",
              "    </tr>\n",
              "    <tr>\n",
              "      <th>2000</th>\n",
              "      <td>0.278571</td>\n",
              "      <td>0.257143</td>\n",
              "      <td>-0.905228</td>\n",
              "      <td>-0.193182</td>\n",
              "      <td>-0.003912</td>\n",
              "      <td>0.037021</td>\n",
              "      <td>-0.305277</td>\n",
              "      <td>-2.449294e-16</td>\n",
              "      <td>2019-06-30</td>\n",
              "      <td>5.761013</td>\n",
              "    </tr>\n",
              "  </tbody>\n",
              "</table>\n",
              "</div>"
            ],
            "text/plain": [
              "      sold_price_lag_1  sold_price_lag_2  ...  negotiation_date  sold_price\n",
              "1996          0.273814          0.242857  ...        2019-06-26    5.753778\n",
              "1997          0.241971          0.273814  ...        2019-06-27    5.761674\n",
              "1998          0.245543          0.241971  ...        2019-06-28    5.786897\n",
              "1999          0.257143          0.245543  ...        2019-06-29    5.831882\n",
              "2000          0.278571          0.257143  ...        2019-06-30    5.761013\n",
              "\n",
              "[5 rows x 10 columns]"
            ]
          },
          "metadata": {
            "tags": []
          },
          "execution_count": 188
        }
      ]
    },
    {
      "cell_type": "code",
      "metadata": {
        "id": "IYTy5WJA-E8l"
      },
      "source": [
        "x_train = treino.drop(['sold_price','negotiation_date'],axis=1)\r\n",
        "y_train = treino['sold_price'].values"
      ],
      "execution_count": 189,
      "outputs": []
    },
    {
      "cell_type": "code",
      "metadata": {
        "id": "omgWGaxOkIwI"
      },
      "source": [
        "teste['sold_price'] = np.log1p(teste['sold_price'])\r\n",
        "teste['sold_price_lag_1'] = jb.load('./scaler_price_lag_1.pkl').transform(teste[['sold_price_lag_1']])\r\n",
        "teste['sold_price_lag_2'] = jb.load('./scaler_price_lag_2.pkl').transform(teste[['sold_price_lag_2']])\r\n",
        "teste['sold_price_diff_1'] = jb.load('./scaler_price_diff_1.pkl').transform(teste[['sold_price_diff_1']])\r\n",
        "teste['sold_price_diff_2'] = jb.load('./scaler_price_diff_2.pkl').transform(teste[['sold_price_diff_2']])\r\n",
        "teste['sold_price_diff_3'] = jb.load('./scaler_price_diff_3.pkl').transform(teste[['sold_price_diff_3']])\r\n",
        "teste['sold_price_diff_4'] = jb.load('./scaler_price_diff_4.pkl').transform(teste[['sold_price_diff_4']])\r\n",
        "teste['sold_price_diff_5'] = jb.load('./scaler_price_diff_5.pkl').transform(teste[['sold_price_diff_5']])"
      ],
      "execution_count": 190,
      "outputs": []
    },
    {
      "cell_type": "code",
      "metadata": {
        "id": "g5VDnbGGkHih"
      },
      "source": [
        "x_test = teste.drop(['sold_price','negotiation_date'],axis=1)\r\n",
        "y_test = teste['sold_price'].values"
      ],
      "execution_count": 191,
      "outputs": []
    },
    {
      "cell_type": "code",
      "metadata": {
        "id": "DdTX7ZMb98sE"
      },
      "source": [
        "y_test = np.expm1(y_test)"
      ],
      "execution_count": 192,
      "outputs": []
    },
    {
      "cell_type": "code",
      "metadata": {
        "id": "UCZW9O5aHuJj"
      },
      "source": [
        "#y_test = scaler_price.inverse_transform(y_test.reshape(-1,1))"
      ],
      "execution_count": 193,
      "outputs": []
    },
    {
      "cell_type": "markdown",
      "metadata": {
        "id": "ZmatpY1W8Hrk"
      },
      "source": [
        "## **8.2 Baseline**"
      ]
    },
    {
      "cell_type": "code",
      "metadata": {
        "id": "Xn0K70vQEcBE",
        "colab": {
          "base_uri": "https://localhost:8080/"
        },
        "outputId": "d012e982-3824-487b-bf18-543ccea7181b"
      },
      "source": [
        "rf1 = RandomForestRegressor(n_estimators=700)\r\n",
        "rf1.fit(x_train,y_train)"
      ],
      "execution_count": 194,
      "outputs": [
        {
          "output_type": "execute_result",
          "data": {
            "text/plain": [
              "RandomForestRegressor(bootstrap=True, ccp_alpha=0.0, criterion='mse',\n",
              "                      max_depth=None, max_features='auto', max_leaf_nodes=None,\n",
              "                      max_samples=None, min_impurity_decrease=0.0,\n",
              "                      min_impurity_split=None, min_samples_leaf=1,\n",
              "                      min_samples_split=2, min_weight_fraction_leaf=0.0,\n",
              "                      n_estimators=700, n_jobs=None, oob_score=False,\n",
              "                      random_state=None, verbose=0, warm_start=False)"
            ]
          },
          "metadata": {
            "tags": []
          },
          "execution_count": 194
        }
      ]
    },
    {
      "cell_type": "code",
      "metadata": {
        "id": "PVbOn-Y_9v5O",
        "colab": {
          "base_uri": "https://localhost:8080/"
        },
        "outputId": "2bd5e812-bfc6-4099-924b-c80bb9727096"
      },
      "source": [
        "y_predrf = rf1.predict(x_test)\r\n",
        "y_predrf = np.round(np.expm1(y_predrf),2)\r\n",
        "print('RMSE: ',mean_squared_error(y_test,y_predrf,squared=False))"
      ],
      "execution_count": 195,
      "outputs": [
        {
          "output_type": "stream",
          "text": [
            "RMSE:  5.381355807097389\n"
          ],
          "name": "stdout"
        }
      ]
    },
    {
      "cell_type": "code",
      "metadata": {
        "id": "vHNWo2lHEQEn",
        "colab": {
          "base_uri": "https://localhost:8080/",
          "height": 469
        },
        "outputId": "e4876cf6-d01c-4696-b77a-a3fe22e09430"
      },
      "source": [
        "plot_predict(teste,y_predrf,y_test)"
      ],
      "execution_count": 196,
      "outputs": [
        {
          "output_type": "display_data",
          "data": {
            "text/plain": [
              "<Figure size 432x288 with 0 Axes>"
            ]
          },
          "metadata": {
            "tags": []
          }
        },
        {
          "output_type": "display_data",
          "data": {
            "image/png": "[encoded data removed]",
            "text/plain": [
              "<Figure size 720x432 with 1 Axes>"
            ]
          },
          "metadata": {
            "tags": [],
            "needs_background": "light"
          }
        }
      ]
    },
    {
      "cell_type": "markdown",
      "metadata": {
        "id": "AR2ygWYK8Vcz"
      },
      "source": [
        "## **8.3 Aplicando em uma diversidade de modelos**"
      ]
    },
    {
      "cell_type": "code",
      "metadata": {
        "id": "xiREKt1IxTLF"
      },
      "source": [
        "y_train_origin = np.expm1(y_train)"
      ],
      "execution_count": 197,
      "outputs": []
    },
    {
      "cell_type": "code",
      "metadata": {
        "id": "KRNunE5WC7Xk",
        "colab": {
          "base_uri": "https://localhost:8080/",
          "height": 461
        },
        "outputId": "6905da6f-6842-41c8-e037-0caf10e7f219"
      },
      "source": [
        "df_res = pd.DataFrame()\r\n",
        "models = [('RandomForest',RandomForestRegressor(n_estimators=700)),\r\n",
        "          ('MLP',MLPRegressor(max_iter=1000)),\r\n",
        "          ('XGBoost',XGBRegressor(n_estimators=700)),\r\n",
        "          ('LightGBM',LGBMRegressor(n_estimators=700)),\r\n",
        "          ('LinearRegression',LinearRegression())]\r\n",
        "\r\n",
        "for indice,mdl in enumerate(models):\r\n",
        "  print(mdl[0])\r\n",
        "  mdl[1].fit(x_train,y_train.ravel())\r\n",
        "  y_pred = mdl[1].predict(x_test)\r\n",
        "  y_pred = np.expm1(y_pred)\r\n",
        "\r\n",
        "  y_pred_train = mdl[1].predict(x_train)\r\n",
        "  y_pred_train = np.expm1(y_pred_train)\r\n",
        "  \r\n",
        "  df_res = df_res.append(error_metrics(mdl[0],y_test,y_pred),ignore_index=True)\r\n",
        "  df_res = df_res.append(error_metrics(mdl[0]+'_train',y_train_origin,y_pred_train),ignore_index=True)\r\n",
        "\r\n",
        "df_res\r\n"
      ],
      "execution_count": 198,
      "outputs": [
        {
          "output_type": "stream",
          "text": [
            "RandomForest\n",
            "MLP\n",
            "XGBoost\n",
            "[12:42:17] WARNING: /workspace/src/objective/regression_obj.cu:152: reg:linear is now deprecated in favor of reg:squarederror.\n",
            "LightGBM\n",
            "LinearRegression\n"
          ],
          "name": "stdout"
        },
        {
          "output_type": "execute_result",
          "data": {
            "text/html": [
              "<div>\n",
              "<style scoped>\n",
              "    .dataframe tbody tr th:only-of-type {\n",
              "        vertical-align: middle;\n",
              "    }\n",
              "\n",
              "    .dataframe tbody tr th {\n",
              "        vertical-align: top;\n",
              "    }\n",
              "\n",
              "    .dataframe thead th {\n",
              "        text-align: right;\n",
              "    }\n",
              "</style>\n",
              "<table border=\"1\" class=\"dataframe\">\n",
              "  <thead>\n",
              "    <tr style=\"text-align: right;\">\n",
              "      <th></th>\n",
              "      <th>model_name</th>\n",
              "      <th>MAE</th>\n",
              "      <th>MAPE</th>\n",
              "      <th>RMSE</th>\n",
              "    </tr>\n",
              "  </thead>\n",
              "  <tbody>\n",
              "    <tr>\n",
              "      <th>0</th>\n",
              "      <td>RandomForest</td>\n",
              "      <td>2.565724</td>\n",
              "      <td>0.006292</td>\n",
              "      <td>5.130109</td>\n",
              "    </tr>\n",
              "    <tr>\n",
              "      <th>1</th>\n",
              "      <td>RandomForest_train</td>\n",
              "      <td>1.773736</td>\n",
              "      <td>0.004442</td>\n",
              "      <td>4.739149</td>\n",
              "    </tr>\n",
              "    <tr>\n",
              "      <th>2</th>\n",
              "      <td>MLP</td>\n",
              "      <td>24.810847</td>\n",
              "      <td>0.060547</td>\n",
              "      <td>39.771407</td>\n",
              "    </tr>\n",
              "    <tr>\n",
              "      <th>3</th>\n",
              "      <td>MLP_train</td>\n",
              "      <td>30.476015</td>\n",
              "      <td>0.074097</td>\n",
              "      <td>48.756631</td>\n",
              "    </tr>\n",
              "    <tr>\n",
              "      <th>4</th>\n",
              "      <td>XGBoost</td>\n",
              "      <td>3.255027</td>\n",
              "      <td>0.008542</td>\n",
              "      <td>4.608139</td>\n",
              "    </tr>\n",
              "    <tr>\n",
              "      <th>5</th>\n",
              "      <td>XGBoost_train</td>\n",
              "      <td>1.570887</td>\n",
              "      <td>0.004063</td>\n",
              "      <td>2.158890</td>\n",
              "    </tr>\n",
              "    <tr>\n",
              "      <th>6</th>\n",
              "      <td>LightGBM</td>\n",
              "      <td>3.205120</td>\n",
              "      <td>0.008615</td>\n",
              "      <td>4.370752</td>\n",
              "    </tr>\n",
              "    <tr>\n",
              "      <th>7</th>\n",
              "      <td>LightGBM_train</td>\n",
              "      <td>0.645856</td>\n",
              "      <td>0.001684</td>\n",
              "      <td>1.469435</td>\n",
              "    </tr>\n",
              "    <tr>\n",
              "      <th>8</th>\n",
              "      <td>LinearRegression</td>\n",
              "      <td>12.249294</td>\n",
              "      <td>0.033500</td>\n",
              "      <td>14.371672</td>\n",
              "    </tr>\n",
              "    <tr>\n",
              "      <th>9</th>\n",
              "      <td>LinearRegression_train</td>\n",
              "      <td>19.263394</td>\n",
              "      <td>0.047646</td>\n",
              "      <td>31.394021</td>\n",
              "    </tr>\n",
              "  </tbody>\n",
              "</table>\n",
              "</div>"
            ],
            "text/plain": [
              "               model_name        MAE      MAPE       RMSE\n",
              "0            RandomForest   2.565724  0.006292   5.130109\n",
              "1      RandomForest_train   1.773736  0.004442   4.739149\n",
              "2                     MLP  24.810847  0.060547  39.771407\n",
              "3               MLP_train  30.476015  0.074097  48.756631\n",
              "4                 XGBoost   3.255027  0.008542   4.608139\n",
              "5           XGBoost_train   1.570887  0.004063   2.158890\n",
              "6                LightGBM   3.205120  0.008615   4.370752\n",
              "7          LightGBM_train   0.645856  0.001684   1.469435\n",
              "8        LinearRegression  12.249294  0.033500  14.371672\n",
              "9  LinearRegression_train  19.263394  0.047646  31.394021"
            ]
          },
          "metadata": {
            "tags": []
          },
          "execution_count": 198
        }
      ]
    },
    {
      "cell_type": "code",
      "metadata": {
        "id": "SH5B0SY1cgxI"
      },
      "source": [
        "mdx = LGBMRegressor(n_estimators=700)\r\n",
        "mdx.fit(x_train,y_train)\r\n",
        "yp=mdx.predict(x_test)\r\n",
        "yp = np.expm1(yp)\r\n",
        "\r\n",
        "mdg = XGBRegressor(n_estimators=700,objective ='reg:squarederror')\r\n",
        "mdg.fit(x_train,y_train)\r\n",
        "yg=mdg.predict(x_test)\r\n",
        "yg = np.expm1(yg)"
      ],
      "execution_count": 243,
      "outputs": []
    },
    {
      "cell_type": "code",
      "metadata": {
        "id": "0ePYXe5Wd35-",
        "colab": {
          "base_uri": "https://localhost:8080/"
        },
        "outputId": "4951c906-3409-4224-f1a9-6e10a93530a7"
      },
      "source": [
        "mdx"
      ],
      "execution_count": 200,
      "outputs": [
        {
          "output_type": "execute_result",
          "data": {
            "text/plain": [
              "LGBMRegressor(boosting_type='gbdt', class_weight=None, colsample_bytree=1.0,\n",
              "              importance_type='split', learning_rate=0.1, max_depth=-1,\n",
              "              min_child_samples=20, min_child_weight=0.001, min_split_gain=0.0,\n",
              "              n_estimators=700, n_jobs=-1, num_leaves=31, objective=None,\n",
              "              random_state=None, reg_alpha=0.0, reg_lambda=0.0, silent=True,\n",
              "              subsample=1.0, subsample_for_bin=200000, subsample_freq=0)"
            ]
          },
          "metadata": {
            "tags": []
          },
          "execution_count": 200
        }
      ]
    },
    {
      "cell_type": "code",
      "metadata": {
        "id": "yWfmrYn8msHK",
        "colab": {
          "base_uri": "https://localhost:8080/"
        },
        "outputId": "9a7b9652-b11d-44a2-fa8e-77afb5ac3784"
      },
      "source": [
        "mdg"
      ],
      "execution_count": 201,
      "outputs": [
        {
          "output_type": "execute_result",
          "data": {
            "text/plain": [
              "XGBRegressor(base_score=0.5, booster='gbtree', colsample_bylevel=1,\n",
              "             colsample_bynode=1, colsample_bytree=1, gamma=0,\n",
              "             importance_type='gain', learning_rate=0.1, max_delta_step=0,\n",
              "             max_depth=3, min_child_weight=1, missing=None, n_estimators=700,\n",
              "             n_jobs=1, nthread=None, objective='reg:linear', random_state=0,\n",
              "             reg_alpha=0, reg_lambda=1, scale_pos_weight=1, seed=None,\n",
              "             silent=None, subsample=1, verbosity=1)"
            ]
          },
          "metadata": {
            "tags": []
          },
          "execution_count": 201
        }
      ]
    },
    {
      "cell_type": "code",
      "metadata": {
        "id": "Ac-LaLIUa8b7"
      },
      "source": [
        "stacking = mean_squared_error(yp*0.6+yg*0.4,y_test,squared=False)"
      ],
      "execution_count": 202,
      "outputs": []
    },
    {
      "cell_type": "code",
      "metadata": {
        "id": "0qGpp6X0dFgO",
        "colab": {
          "base_uri": "https://localhost:8080/"
        },
        "outputId": "294d5983-b3ff-4790-d1fb-fcd878070c9a"
      },
      "source": [
        "stacking"
      ],
      "execution_count": 203,
      "outputs": [
        {
          "output_type": "execute_result",
          "data": {
            "text/plain": [
              "3.9179098778089743"
            ]
          },
          "metadata": {
            "tags": []
          },
          "execution_count": 203
        }
      ]
    },
    {
      "cell_type": "code",
      "metadata": {
        "id": "p-SzuFKQK5WE"
      },
      "source": [
        "def walk_forward_validation(treino,test,modelo):\r\n",
        "    \r\n",
        "    x_train = treino.drop(['negotiation_date','sold_price'],axis=1)\r\n",
        "    y_train = treino.sold_price.values\r\n",
        "    \r\n",
        "    rmse_final=[]\r\n",
        "    \r\n",
        "    for index,row in test.iterrows():\r\n",
        "        modelo.fit(x_train,y_train)\r\n",
        "                \r\n",
        "        row_test = row.drop(['negotiation_date','sold_price']).values.reshape(1,-1)\r\n",
        "    \r\n",
        "        y_pred_m1 = np.expm1(modelo.predict(row_test))      \r\n",
        "       \r\n",
        "        y_pred_final = mean_squared_error(np.asarray(row['sold_price']).ravel(),y_pred_m1,squared=False)\r\n",
        "\r\n",
        "        print('Data: {} - Real: {} - Predito: {}'.format(row['negotiation_date'].strftime('%Y-%m-%d'),np.round(np.expm1(row['sold_price']),2),np.round(y_pred_final,2)))\r\n",
        "        rmse_final.append(mean_squared_error(np.expm1(np.asarray(row['sold_price']).ravel()),y_pred_m1.ravel(),squared=False))\r\n",
        "        treino = treino.append(row, ignore_index=True)\r\n",
        "    return rmse_final, modelo, treino\r\n"
      ],
      "execution_count": 277,
      "outputs": []
    },
    {
      "cell_type": "code",
      "metadata": {
        "colab": {
          "base_uri": "https://localhost:8080/"
        },
        "id": "iXLMaDfnMvbr",
        "outputId": "2393f05c-0d5a-4e5e-aae2-2414b3e363f1"
      },
      "source": [
        "rmse,modelo1,train = walk_forward_validation(treino,teste,mdx)"
      ],
      "execution_count": 278,
      "outputs": [
        {
          "output_type": "stream",
          "text": [
            "Data: 2019-07-01 - Real: 475.0 - Predito: 461.3\n",
            "Data: 2019-07-02 - Real: 508.5 - Predito: 494.29\n",
            "Data: 2019-07-03 - Real: 612.5 - Predito: 601.64\n",
            "Data: 2019-07-04 - Real: 612.5 - Predito: 597.99\n",
            "Data: 2019-07-05 - Real: 490.0 - Predito: 476.25\n",
            "Data: 2019-07-06 - Real: 310.94 - Predito: 293.97\n",
            "Data: 2019-07-07 - Real: 314.0 - Predito: 312.75\n",
            "Data: 2019-07-08 - Real: 325.0 - Predito: 310.48\n",
            "Data: 2019-07-09 - Real: 326.25 - Predito: 319.45\n",
            "Data: 2019-07-10 - Real: 326.25 - Predito: 318.6\n",
            "Data: 2019-07-11 - Real: 326.25 - Predito: 318.35\n",
            "Data: 2019-07-12 - Real: 326.25 - Predito: 318.77\n",
            "Data: 2019-07-13 - Real: 317.31 - Predito: 309.21\n",
            "Data: 2019-07-14 - Real: 295.0 - Predito: 289.96\n",
            "Data: 2019-07-15 - Real: 305.83 - Predito: 299.46\n",
            "Data: 2019-07-16 - Real: 309.44 - Predito: 303.88\n",
            "Data: 2019-07-17 - Real: 318.95 - Predito: 309.71\n",
            "Data: 2019-07-18 - Real: 310.94 - Predito: 303.19\n",
            "Data: 2019-07-19 - Real: 318.33 - Predito: 309.84\n",
            "Data: 2019-07-20 - Real: 313.24 - Predito: 306.88\n",
            "Data: 2019-07-21 - Real: 303.33 - Predito: 295.76\n",
            "Data: 2019-07-22 - Real: 306.67 - Predito: 299.99\n",
            "Data: 2019-07-23 - Real: 328.57 - Predito: 323.69\n",
            "Data: 2019-07-24 - Real: 316.67 - Predito: 311.78\n",
            "Data: 2019-07-25 - Real: 321.67 - Predito: 318.03\n",
            "Data: 2019-07-26 - Real: 324.09 - Predito: 318.59\n",
            "Data: 2019-07-27 - Real: 320.0 - Predito: 311.84\n",
            "Data: 2019-07-28 - Real: 320.0 - Predito: 314.41\n",
            "Data: 2019-07-29 - Real: 305.0 - Predito: 298.66\n",
            "Data: 2019-07-30 - Real: 350.0 - Predito: 338.89\n",
            "Data: 2019-07-31 - Real: 315.0 - Predito: 304.71\n"
          ],
          "name": "stdout"
        }
      ]
    },
    {
      "cell_type": "code",
      "metadata": {
        "colab": {
          "base_uri": "https://localhost:8080/"
        },
        "id": "iuG_er6RXQpS",
        "outputId": "84932407-7358-4244-ba48-d66c9d2106c0"
      },
      "source": [
        "print('RMSE: ',np.asarray(rmse).mean())"
      ],
      "execution_count": 284,
      "outputs": [
        {
          "output_type": "stream",
          "text": [
            "RMSE:  3.205119505441037\n"
          ],
          "name": "stdout"
        }
      ]
    },
    {
      "cell_type": "markdown",
      "metadata": {
        "id": "BLYU24QB_7p_"
      },
      "source": [
        "# **8.3 Tunado Hyperparâmetros**"
      ]
    },
    {
      "cell_type": "code",
      "metadata": {
        "id": "AOWcbumgs3Bz"
      },
      "source": [
        "gridParams = {\r\n",
        "    'learning_rate': [0.1,0.001,0.2],\r\n",
        "    'n_estimators': [100,600,700],\r\n",
        "    'num_leaves': [31,32,35],\r\n",
        "    'subsample' : [1.0,0.6,0.75],\r\n",
        "    'reg_alpha' : [0.0,1.0],\r\n",
        "    'reg_lambda' : [0.0,0.1],\r\n",
        "    'min_child_samples' : [20,22,23,10],\r\n",
        "    }"
      ],
      "execution_count": 285,
      "outputs": []
    },
    {
      "cell_type": "code",
      "metadata": {
        "id": "hO3Afus_ANfM"
      },
      "source": [
        "lgb_tunning = LGBMRegressor(n_jobs=-1)"
      ],
      "execution_count": 286,
      "outputs": []
    },
    {
      "cell_type": "code",
      "metadata": {
        "id": "DH7Vu2mnAidf"
      },
      "source": [
        "rnd_grid =  skopt.BayesSearchCV(estimator=lgb_tunning,search_spaces=gridParams,n_jobs=-1,verbose=1)"
      ],
      "execution_count": 287,
      "outputs": []
    },
    {
      "cell_type": "code",
      "metadata": {
        "id": "suNa_2u1Avbt",
        "colab": {
          "base_uri": "https://localhost:8080/"
        },
        "outputId": "b32e7934-ad2d-4c18-c19a-a5949db66674"
      },
      "source": [
        "rnd_grid.fit(x_train, y_train)"
      ],
      "execution_count": 288,
      "outputs": [
        {
          "output_type": "stream",
          "text": [
            "Fitting 5 folds for each of 1 candidates, totalling 5 fits\n"
          ],
          "name": "stdout"
        },
        {
          "output_type": "stream",
          "text": [
            "[Parallel(n_jobs=-1)]: Using backend LokyBackend with 2 concurrent workers.\n",
            "[Parallel(n_jobs=-1)]: Done   5 out of   5 | elapsed:    1.5s finished\n",
            "[Parallel(n_jobs=-1)]: Using backend LokyBackend with 2 concurrent workers.\n"
          ],
          "name": "stderr"
        },
        {
          "output_type": "stream",
          "text": [
            "Fitting 5 folds for each of 1 candidates, totalling 5 fits\n"
          ],
          "name": "stdout"
        },
        {
          "output_type": "stream",
          "text": [
            "[Parallel(n_jobs=-1)]: Done   5 out of   5 | elapsed:    3.4s finished\n",
            "[Parallel(n_jobs=-1)]: Using backend LokyBackend with 2 concurrent workers.\n"
          ],
          "name": "stderr"
        },
        {
          "output_type": "stream",
          "text": [
            "Fitting 5 folds for each of 1 candidates, totalling 5 fits\n"
          ],
          "name": "stdout"
        },
        {
          "output_type": "stream",
          "text": [
            "[Parallel(n_jobs=-1)]: Done   5 out of   5 | elapsed:    2.4s finished\n",
            "[Parallel(n_jobs=-1)]: Using backend LokyBackend with 2 concurrent workers.\n"
          ],
          "name": "stderr"
        },
        {
          "output_type": "stream",
          "text": [
            "Fitting 5 folds for each of 1 candidates, totalling 5 fits\n"
          ],
          "name": "stdout"
        },
        {
          "output_type": "stream",
          "text": [
            "[Parallel(n_jobs=-1)]: Done   5 out of   5 | elapsed:    2.4s finished\n",
            "[Parallel(n_jobs=-1)]: Using backend LokyBackend with 2 concurrent workers.\n"
          ],
          "name": "stderr"
        },
        {
          "output_type": "stream",
          "text": [
            "Fitting 5 folds for each of 1 candidates, totalling 5 fits\n"
          ],
          "name": "stdout"
        },
        {
          "output_type": "stream",
          "text": [
            "[Parallel(n_jobs=-1)]: Done   5 out of   5 | elapsed:    0.5s finished\n",
            "[Parallel(n_jobs=-1)]: Using backend LokyBackend with 2 concurrent workers.\n"
          ],
          "name": "stderr"
        },
        {
          "output_type": "stream",
          "text": [
            "Fitting 5 folds for each of 1 candidates, totalling 5 fits\n"
          ],
          "name": "stdout"
        },
        {
          "output_type": "stream",
          "text": [
            "[Parallel(n_jobs=-1)]: Done   5 out of   5 | elapsed:    0.4s finished\n",
            "[Parallel(n_jobs=-1)]: Using backend LokyBackend with 2 concurrent workers.\n"
          ],
          "name": "stderr"
        },
        {
          "output_type": "stream",
          "text": [
            "Fitting 5 folds for each of 1 candidates, totalling 5 fits\n"
          ],
          "name": "stdout"
        },
        {
          "output_type": "stream",
          "text": [
            "[Parallel(n_jobs=-1)]: Done   5 out of   5 | elapsed:    0.6s finished\n",
            "[Parallel(n_jobs=-1)]: Using backend LokyBackend with 2 concurrent workers.\n"
          ],
          "name": "stderr"
        },
        {
          "output_type": "stream",
          "text": [
            "Fitting 5 folds for each of 1 candidates, totalling 5 fits\n"
          ],
          "name": "stdout"
        },
        {
          "output_type": "stream",
          "text": [
            "[Parallel(n_jobs=-1)]: Done   5 out of   5 | elapsed:    2.7s finished\n",
            "[Parallel(n_jobs=-1)]: Using backend LokyBackend with 2 concurrent workers.\n"
          ],
          "name": "stderr"
        },
        {
          "output_type": "stream",
          "text": [
            "Fitting 5 folds for each of 1 candidates, totalling 5 fits\n"
          ],
          "name": "stdout"
        },
        {
          "output_type": "stream",
          "text": [
            "[Parallel(n_jobs=-1)]: Done   5 out of   5 | elapsed:    3.6s finished\n"
          ],
          "name": "stderr"
        },
        {
          "output_type": "stream",
          "text": [
            "Fitting 5 folds for each of 1 candidates, totalling 5 fits\n"
          ],
          "name": "stdout"
        },
        {
          "output_type": "stream",
          "text": [
            "[Parallel(n_jobs=-1)]: Using backend LokyBackend with 2 concurrent workers.\n",
            "[Parallel(n_jobs=-1)]: Done   5 out of   5 | elapsed:    0.3s finished\n"
          ],
          "name": "stderr"
        },
        {
          "output_type": "stream",
          "text": [
            "Fitting 5 folds for each of 1 candidates, totalling 5 fits\n"
          ],
          "name": "stdout"
        },
        {
          "output_type": "stream",
          "text": [
            "[Parallel(n_jobs=-1)]: Using backend LokyBackend with 2 concurrent workers.\n",
            "[Parallel(n_jobs=-1)]: Done   5 out of   5 | elapsed:    0.7s finished\n"
          ],
          "name": "stderr"
        },
        {
          "output_type": "stream",
          "text": [
            "Fitting 5 folds for each of 1 candidates, totalling 5 fits\n"
          ],
          "name": "stdout"
        },
        {
          "output_type": "stream",
          "text": [
            "[Parallel(n_jobs=-1)]: Using backend LokyBackend with 2 concurrent workers.\n",
            "[Parallel(n_jobs=-1)]: Done   5 out of   5 | elapsed:    0.2s finished\n"
          ],
          "name": "stderr"
        },
        {
          "output_type": "stream",
          "text": [
            "Fitting 5 folds for each of 1 candidates, totalling 5 fits\n"
          ],
          "name": "stdout"
        },
        {
          "output_type": "stream",
          "text": [
            "[Parallel(n_jobs=-1)]: Using backend LokyBackend with 2 concurrent workers.\n",
            "[Parallel(n_jobs=-1)]: Done   5 out of   5 | elapsed:    0.7s finished\n"
          ],
          "name": "stderr"
        },
        {
          "output_type": "stream",
          "text": [
            "Fitting 5 folds for each of 1 candidates, totalling 5 fits\n"
          ],
          "name": "stdout"
        },
        {
          "output_type": "stream",
          "text": [
            "[Parallel(n_jobs=-1)]: Using backend LokyBackend with 2 concurrent workers.\n",
            "[Parallel(n_jobs=-1)]: Done   5 out of   5 | elapsed:    0.7s finished\n"
          ],
          "name": "stderr"
        },
        {
          "output_type": "stream",
          "text": [
            "Fitting 5 folds for each of 1 candidates, totalling 5 fits\n"
          ],
          "name": "stdout"
        },
        {
          "output_type": "stream",
          "text": [
            "[Parallel(n_jobs=-1)]: Using backend LokyBackend with 2 concurrent workers.\n",
            "[Parallel(n_jobs=-1)]: Done   5 out of   5 | elapsed:    4.4s finished\n"
          ],
          "name": "stderr"
        },
        {
          "output_type": "stream",
          "text": [
            "Fitting 5 folds for each of 1 candidates, totalling 5 fits\n"
          ],
          "name": "stdout"
        },
        {
          "output_type": "stream",
          "text": [
            "[Parallel(n_jobs=-1)]: Using backend LokyBackend with 2 concurrent workers.\n",
            "[Parallel(n_jobs=-1)]: Done   5 out of   5 | elapsed:    0.7s finished\n"
          ],
          "name": "stderr"
        },
        {
          "output_type": "stream",
          "text": [
            "Fitting 5 folds for each of 1 candidates, totalling 5 fits\n"
          ],
          "name": "stdout"
        },
        {
          "output_type": "stream",
          "text": [
            "[Parallel(n_jobs=-1)]: Using backend LokyBackend with 2 concurrent workers.\n",
            "[Parallel(n_jobs=-1)]: Done   5 out of   5 | elapsed:    0.7s finished\n"
          ],
          "name": "stderr"
        },
        {
          "output_type": "stream",
          "text": [
            "Fitting 5 folds for each of 1 candidates, totalling 5 fits\n"
          ],
          "name": "stdout"
        },
        {
          "output_type": "stream",
          "text": [
            "[Parallel(n_jobs=-1)]: Using backend LokyBackend with 2 concurrent workers.\n",
            "[Parallel(n_jobs=-1)]: Done   5 out of   5 | elapsed:    3.9s finished\n",
            "/usr/local/lib/python3.7/dist-packages/skopt/optimizer/optimizer.py:449: UserWarning: The objective has been evaluated at this point before.\n",
            "  warnings.warn(\"The objective has been evaluated \"\n"
          ],
          "name": "stderr"
        },
        {
          "output_type": "stream",
          "text": [
            "Fitting 5 folds for each of 1 candidates, totalling 5 fits\n"
          ],
          "name": "stdout"
        },
        {
          "output_type": "stream",
          "text": [
            "[Parallel(n_jobs=-1)]: Using backend LokyBackend with 2 concurrent workers.\n",
            "[Parallel(n_jobs=-1)]: Done   5 out of   5 | elapsed:    0.7s finished\n",
            "/usr/local/lib/python3.7/dist-packages/skopt/optimizer/optimizer.py:449: UserWarning: The objective has been evaluated at this point before.\n",
            "  warnings.warn(\"The objective has been evaluated \"\n"
          ],
          "name": "stderr"
        },
        {
          "output_type": "stream",
          "text": [
            "Fitting 5 folds for each of 1 candidates, totalling 5 fits\n"
          ],
          "name": "stdout"
        },
        {
          "output_type": "stream",
          "text": [
            "[Parallel(n_jobs=-1)]: Using backend LokyBackend with 2 concurrent workers.\n",
            "[Parallel(n_jobs=-1)]: Done   5 out of   5 | elapsed:    0.7s finished\n",
            "/usr/local/lib/python3.7/dist-packages/skopt/optimizer/optimizer.py:449: UserWarning: The objective has been evaluated at this point before.\n",
            "  warnings.warn(\"The objective has been evaluated \"\n"
          ],
          "name": "stderr"
        },
        {
          "output_type": "stream",
          "text": [
            "Fitting 5 folds for each of 1 candidates, totalling 5 fits\n"
          ],
          "name": "stdout"
        },
        {
          "output_type": "stream",
          "text": [
            "[Parallel(n_jobs=-1)]: Using backend LokyBackend with 2 concurrent workers.\n",
            "[Parallel(n_jobs=-1)]: Done   5 out of   5 | elapsed:    0.7s finished\n",
            "/usr/local/lib/python3.7/dist-packages/skopt/optimizer/optimizer.py:449: UserWarning: The objective has been evaluated at this point before.\n",
            "  warnings.warn(\"The objective has been evaluated \"\n"
          ],
          "name": "stderr"
        },
        {
          "output_type": "stream",
          "text": [
            "Fitting 5 folds for each of 1 candidates, totalling 5 fits\n"
          ],
          "name": "stdout"
        },
        {
          "output_type": "stream",
          "text": [
            "[Parallel(n_jobs=-1)]: Using backend LokyBackend with 2 concurrent workers.\n",
            "[Parallel(n_jobs=-1)]: Done   5 out of   5 | elapsed:    0.7s finished\n"
          ],
          "name": "stderr"
        },
        {
          "output_type": "stream",
          "text": [
            "Fitting 5 folds for each of 1 candidates, totalling 5 fits\n"
          ],
          "name": "stdout"
        },
        {
          "output_type": "stream",
          "text": [
            "[Parallel(n_jobs=-1)]: Using backend LokyBackend with 2 concurrent workers.\n",
            "[Parallel(n_jobs=-1)]: Done   5 out of   5 | elapsed:    0.7s finished\n",
            "/usr/local/lib/python3.7/dist-packages/skopt/optimizer/optimizer.py:449: UserWarning: The objective has been evaluated at this point before.\n",
            "  warnings.warn(\"The objective has been evaluated \"\n"
          ],
          "name": "stderr"
        },
        {
          "output_type": "stream",
          "text": [
            "Fitting 5 folds for each of 1 candidates, totalling 5 fits\n"
          ],
          "name": "stdout"
        },
        {
          "output_type": "stream",
          "text": [
            "[Parallel(n_jobs=-1)]: Using backend LokyBackend with 2 concurrent workers.\n",
            "[Parallel(n_jobs=-1)]: Done   5 out of   5 | elapsed:    0.7s finished\n"
          ],
          "name": "stderr"
        },
        {
          "output_type": "stream",
          "text": [
            "Fitting 5 folds for each of 1 candidates, totalling 5 fits\n"
          ],
          "name": "stdout"
        },
        {
          "output_type": "stream",
          "text": [
            "[Parallel(n_jobs=-1)]: Using backend LokyBackend with 2 concurrent workers.\n",
            "[Parallel(n_jobs=-1)]: Done   5 out of   5 | elapsed:    4.8s finished\n",
            "/usr/local/lib/python3.7/dist-packages/skopt/optimizer/optimizer.py:449: UserWarning: The objective has been evaluated at this point before.\n",
            "  warnings.warn(\"The objective has been evaluated \"\n"
          ],
          "name": "stderr"
        },
        {
          "output_type": "stream",
          "text": [
            "Fitting 5 folds for each of 1 candidates, totalling 5 fits\n"
          ],
          "name": "stdout"
        },
        {
          "output_type": "stream",
          "text": [
            "[Parallel(n_jobs=-1)]: Using backend LokyBackend with 2 concurrent workers.\n",
            "[Parallel(n_jobs=-1)]: Done   5 out of   5 | elapsed:    0.7s finished\n",
            "/usr/local/lib/python3.7/dist-packages/skopt/optimizer/optimizer.py:449: UserWarning: The objective has been evaluated at this point before.\n",
            "  warnings.warn(\"The objective has been evaluated \"\n"
          ],
          "name": "stderr"
        },
        {
          "output_type": "stream",
          "text": [
            "Fitting 5 folds for each of 1 candidates, totalling 5 fits\n"
          ],
          "name": "stdout"
        },
        {
          "output_type": "stream",
          "text": [
            "[Parallel(n_jobs=-1)]: Using backend LokyBackend with 2 concurrent workers.\n",
            "[Parallel(n_jobs=-1)]: Done   5 out of   5 | elapsed:    0.7s finished\n"
          ],
          "name": "stderr"
        },
        {
          "output_type": "stream",
          "text": [
            "Fitting 5 folds for each of 1 candidates, totalling 5 fits\n"
          ],
          "name": "stdout"
        },
        {
          "output_type": "stream",
          "text": [
            "[Parallel(n_jobs=-1)]: Using backend LokyBackend with 2 concurrent workers.\n",
            "[Parallel(n_jobs=-1)]: Done   5 out of   5 | elapsed:    4.3s finished\n"
          ],
          "name": "stderr"
        },
        {
          "output_type": "stream",
          "text": [
            "Fitting 5 folds for each of 1 candidates, totalling 5 fits\n"
          ],
          "name": "stdout"
        },
        {
          "output_type": "stream",
          "text": [
            "[Parallel(n_jobs=-1)]: Using backend LokyBackend with 2 concurrent workers.\n",
            "[Parallel(n_jobs=-1)]: Done   5 out of   5 | elapsed:    0.7s finished\n",
            "/usr/local/lib/python3.7/dist-packages/skopt/optimizer/optimizer.py:449: UserWarning: The objective has been evaluated at this point before.\n",
            "  warnings.warn(\"The objective has been evaluated \"\n"
          ],
          "name": "stderr"
        },
        {
          "output_type": "stream",
          "text": [
            "Fitting 5 folds for each of 1 candidates, totalling 5 fits\n"
          ],
          "name": "stdout"
        },
        {
          "output_type": "stream",
          "text": [
            "[Parallel(n_jobs=-1)]: Using backend LokyBackend with 2 concurrent workers.\n",
            "[Parallel(n_jobs=-1)]: Done   5 out of   5 | elapsed:    0.7s finished\n",
            "/usr/local/lib/python3.7/dist-packages/skopt/optimizer/optimizer.py:449: UserWarning: The objective has been evaluated at this point before.\n",
            "  warnings.warn(\"The objective has been evaluated \"\n"
          ],
          "name": "stderr"
        },
        {
          "output_type": "stream",
          "text": [
            "Fitting 5 folds for each of 1 candidates, totalling 5 fits\n"
          ],
          "name": "stdout"
        },
        {
          "output_type": "stream",
          "text": [
            "[Parallel(n_jobs=-1)]: Using backend LokyBackend with 2 concurrent workers.\n",
            "[Parallel(n_jobs=-1)]: Done   5 out of   5 | elapsed:    0.7s finished\n"
          ],
          "name": "stderr"
        },
        {
          "output_type": "stream",
          "text": [
            "Fitting 5 folds for each of 1 candidates, totalling 5 fits\n"
          ],
          "name": "stdout"
        },
        {
          "output_type": "stream",
          "text": [
            "[Parallel(n_jobs=-1)]: Using backend LokyBackend with 2 concurrent workers.\n",
            "[Parallel(n_jobs=-1)]: Done   5 out of   5 | elapsed:    0.7s finished\n"
          ],
          "name": "stderr"
        },
        {
          "output_type": "stream",
          "text": [
            "Fitting 5 folds for each of 1 candidates, totalling 5 fits\n"
          ],
          "name": "stdout"
        },
        {
          "output_type": "stream",
          "text": [
            "[Parallel(n_jobs=-1)]: Using backend LokyBackend with 2 concurrent workers.\n",
            "[Parallel(n_jobs=-1)]: Done   5 out of   5 | elapsed:    0.7s finished\n"
          ],
          "name": "stderr"
        },
        {
          "output_type": "stream",
          "text": [
            "Fitting 5 folds for each of 1 candidates, totalling 5 fits\n"
          ],
          "name": "stdout"
        },
        {
          "output_type": "stream",
          "text": [
            "[Parallel(n_jobs=-1)]: Using backend LokyBackend with 2 concurrent workers.\n",
            "[Parallel(n_jobs=-1)]: Done   5 out of   5 | elapsed:    0.7s finished\n"
          ],
          "name": "stderr"
        },
        {
          "output_type": "stream",
          "text": [
            "Fitting 5 folds for each of 1 candidates, totalling 5 fits\n"
          ],
          "name": "stdout"
        },
        {
          "output_type": "stream",
          "text": [
            "[Parallel(n_jobs=-1)]: Using backend LokyBackend with 2 concurrent workers.\n",
            "[Parallel(n_jobs=-1)]: Done   5 out of   5 | elapsed:    0.7s finished\n"
          ],
          "name": "stderr"
        },
        {
          "output_type": "stream",
          "text": [
            "Fitting 5 folds for each of 1 candidates, totalling 5 fits\n"
          ],
          "name": "stdout"
        },
        {
          "output_type": "stream",
          "text": [
            "[Parallel(n_jobs=-1)]: Using backend LokyBackend with 2 concurrent workers.\n",
            "[Parallel(n_jobs=-1)]: Done   5 out of   5 | elapsed:    0.7s finished\n"
          ],
          "name": "stderr"
        },
        {
          "output_type": "stream",
          "text": [
            "Fitting 5 folds for each of 1 candidates, totalling 5 fits\n"
          ],
          "name": "stdout"
        },
        {
          "output_type": "stream",
          "text": [
            "[Parallel(n_jobs=-1)]: Using backend LokyBackend with 2 concurrent workers.\n",
            "[Parallel(n_jobs=-1)]: Done   5 out of   5 | elapsed:    0.7s finished\n",
            "/usr/local/lib/python3.7/dist-packages/skopt/optimizer/optimizer.py:449: UserWarning: The objective has been evaluated at this point before.\n",
            "  warnings.warn(\"The objective has been evaluated \"\n"
          ],
          "name": "stderr"
        },
        {
          "output_type": "stream",
          "text": [
            "Fitting 5 folds for each of 1 candidates, totalling 5 fits\n"
          ],
          "name": "stdout"
        },
        {
          "output_type": "stream",
          "text": [
            "[Parallel(n_jobs=-1)]: Using backend LokyBackend with 2 concurrent workers.\n",
            "[Parallel(n_jobs=-1)]: Done   5 out of   5 | elapsed:    0.7s finished\n",
            "/usr/local/lib/python3.7/dist-packages/skopt/optimizer/optimizer.py:449: UserWarning: The objective has been evaluated at this point before.\n",
            "  warnings.warn(\"The objective has been evaluated \"\n"
          ],
          "name": "stderr"
        },
        {
          "output_type": "stream",
          "text": [
            "Fitting 5 folds for each of 1 candidates, totalling 5 fits\n"
          ],
          "name": "stdout"
        },
        {
          "output_type": "stream",
          "text": [
            "[Parallel(n_jobs=-1)]: Using backend LokyBackend with 2 concurrent workers.\n",
            "[Parallel(n_jobs=-1)]: Done   5 out of   5 | elapsed:    0.7s finished\n",
            "/usr/local/lib/python3.7/dist-packages/skopt/optimizer/optimizer.py:449: UserWarning: The objective has been evaluated at this point before.\n",
            "  warnings.warn(\"The objective has been evaluated \"\n"
          ],
          "name": "stderr"
        },
        {
          "output_type": "stream",
          "text": [
            "Fitting 5 folds for each of 1 candidates, totalling 5 fits\n"
          ],
          "name": "stdout"
        },
        {
          "output_type": "stream",
          "text": [
            "[Parallel(n_jobs=-1)]: Using backend LokyBackend with 2 concurrent workers.\n",
            "[Parallel(n_jobs=-1)]: Done   5 out of   5 | elapsed:    0.7s finished\n",
            "/usr/local/lib/python3.7/dist-packages/skopt/optimizer/optimizer.py:449: UserWarning: The objective has been evaluated at this point before.\n",
            "  warnings.warn(\"The objective has been evaluated \"\n"
          ],
          "name": "stderr"
        },
        {
          "output_type": "stream",
          "text": [
            "Fitting 5 folds for each of 1 candidates, totalling 5 fits\n"
          ],
          "name": "stdout"
        },
        {
          "output_type": "stream",
          "text": [
            "[Parallel(n_jobs=-1)]: Using backend LokyBackend with 2 concurrent workers.\n",
            "[Parallel(n_jobs=-1)]: Done   5 out of   5 | elapsed:    0.7s finished\n",
            "/usr/local/lib/python3.7/dist-packages/skopt/optimizer/optimizer.py:449: UserWarning: The objective has been evaluated at this point before.\n",
            "  warnings.warn(\"The objective has been evaluated \"\n"
          ],
          "name": "stderr"
        },
        {
          "output_type": "stream",
          "text": [
            "Fitting 5 folds for each of 1 candidates, totalling 5 fits\n"
          ],
          "name": "stdout"
        },
        {
          "output_type": "stream",
          "text": [
            "[Parallel(n_jobs=-1)]: Using backend LokyBackend with 2 concurrent workers.\n",
            "[Parallel(n_jobs=-1)]: Done   5 out of   5 | elapsed:    0.7s finished\n",
            "/usr/local/lib/python3.7/dist-packages/skopt/optimizer/optimizer.py:449: UserWarning: The objective has been evaluated at this point before.\n",
            "  warnings.warn(\"The objective has been evaluated \"\n"
          ],
          "name": "stderr"
        },
        {
          "output_type": "stream",
          "text": [
            "Fitting 5 folds for each of 1 candidates, totalling 5 fits\n"
          ],
          "name": "stdout"
        },
        {
          "output_type": "stream",
          "text": [
            "[Parallel(n_jobs=-1)]: Using backend LokyBackend with 2 concurrent workers.\n",
            "[Parallel(n_jobs=-1)]: Done   5 out of   5 | elapsed:    0.7s finished\n",
            "/usr/local/lib/python3.7/dist-packages/skopt/optimizer/optimizer.py:449: UserWarning: The objective has been evaluated at this point before.\n",
            "  warnings.warn(\"The objective has been evaluated \"\n"
          ],
          "name": "stderr"
        },
        {
          "output_type": "stream",
          "text": [
            "Fitting 5 folds for each of 1 candidates, totalling 5 fits\n"
          ],
          "name": "stdout"
        },
        {
          "output_type": "stream",
          "text": [
            "[Parallel(n_jobs=-1)]: Using backend LokyBackend with 2 concurrent workers.\n",
            "[Parallel(n_jobs=-1)]: Done   5 out of   5 | elapsed:    0.7s finished\n"
          ],
          "name": "stderr"
        },
        {
          "output_type": "stream",
          "text": [
            "Fitting 5 folds for each of 1 candidates, totalling 5 fits\n"
          ],
          "name": "stdout"
        },
        {
          "output_type": "stream",
          "text": [
            "[Parallel(n_jobs=-1)]: Using backend LokyBackend with 2 concurrent workers.\n",
            "[Parallel(n_jobs=-1)]: Done   5 out of   5 | elapsed:    0.7s finished\n"
          ],
          "name": "stderr"
        },
        {
          "output_type": "stream",
          "text": [
            "Fitting 5 folds for each of 1 candidates, totalling 5 fits\n"
          ],
          "name": "stdout"
        },
        {
          "output_type": "stream",
          "text": [
            "[Parallel(n_jobs=-1)]: Using backend LokyBackend with 2 concurrent workers.\n",
            "[Parallel(n_jobs=-1)]: Done   5 out of   5 | elapsed:    0.7s finished\n"
          ],
          "name": "stderr"
        },
        {
          "output_type": "stream",
          "text": [
            "Fitting 5 folds for each of 1 candidates, totalling 5 fits\n"
          ],
          "name": "stdout"
        },
        {
          "output_type": "stream",
          "text": [
            "[Parallel(n_jobs=-1)]: Using backend LokyBackend with 2 concurrent workers.\n",
            "[Parallel(n_jobs=-1)]: Done   5 out of   5 | elapsed:    0.7s finished\n"
          ],
          "name": "stderr"
        },
        {
          "output_type": "stream",
          "text": [
            "Fitting 5 folds for each of 1 candidates, totalling 5 fits\n"
          ],
          "name": "stdout"
        },
        {
          "output_type": "stream",
          "text": [
            "[Parallel(n_jobs=-1)]: Using backend LokyBackend with 2 concurrent workers.\n",
            "[Parallel(n_jobs=-1)]: Done   5 out of   5 | elapsed:    3.7s finished\n"
          ],
          "name": "stderr"
        },
        {
          "output_type": "stream",
          "text": [
            "Fitting 5 folds for each of 1 candidates, totalling 5 fits\n"
          ],
          "name": "stdout"
        },
        {
          "output_type": "stream",
          "text": [
            "[Parallel(n_jobs=-1)]: Using backend LokyBackend with 2 concurrent workers.\n",
            "[Parallel(n_jobs=-1)]: Done   5 out of   5 | elapsed:    0.7s finished\n"
          ],
          "name": "stderr"
        },
        {
          "output_type": "stream",
          "text": [
            "Fitting 5 folds for each of 1 candidates, totalling 5 fits\n"
          ],
          "name": "stdout"
        },
        {
          "output_type": "stream",
          "text": [
            "[Parallel(n_jobs=-1)]: Using backend LokyBackend with 2 concurrent workers.\n",
            "[Parallel(n_jobs=-1)]: Done   5 out of   5 | elapsed:    4.4s finished\n"
          ],
          "name": "stderr"
        },
        {
          "output_type": "execute_result",
          "data": {
            "text/plain": [
              "BayesSearchCV(cv=None, error_score='raise',\n",
              "              estimator=LGBMRegressor(boosting_type='gbdt', class_weight=None,\n",
              "                                      colsample_bytree=1.0,\n",
              "                                      importance_type='split',\n",
              "                                      learning_rate=0.1, max_depth=-1,\n",
              "                                      min_child_samples=20,\n",
              "                                      min_child_weight=0.001,\n",
              "                                      min_split_gain=0.0, n_estimators=100,\n",
              "                                      n_jobs=-1, num_leaves=31, objective=None,\n",
              "                                      random_state=None, reg_alpha=0.0,\n",
              "                                      reg_lambda=0.0, sil...\n",
              "              fit_params=None, iid=True, n_iter=50, n_jobs=-1, n_points=1,\n",
              "              optimizer_kwargs=None, pre_dispatch='2*n_jobs', random_state=None,\n",
              "              refit=True, return_train_score=False, scoring=None,\n",
              "              search_spaces={'learning_rate': [0.1, 0.001, 0.2],\n",
              "                             'min_child_samples': [20, 22, 23, 10],\n",
              "                             'n_estimators': [100, 600, 700],\n",
              "                             'num_leaves': [31, 32, 35],\n",
              "                             'reg_alpha': [0.0, 1.0], 'reg_lambda': [0.0, 0.1],\n",
              "                             'subsample': [1.0, 0.6, 0.75]},\n",
              "              verbose=1)"
            ]
          },
          "metadata": {
            "tags": []
          },
          "execution_count": 288
        }
      ]
    },
    {
      "cell_type": "code",
      "metadata": {
        "id": "NKINrW4UAyNw",
        "colab": {
          "base_uri": "https://localhost:8080/"
        },
        "outputId": "ff539150-4606-4aec-dd17-2946256cebd5"
      },
      "source": [
        "print(rnd_grid.best_params_)\r\n",
        "print(rnd_grid.best_score_)"
      ],
      "execution_count": 289,
      "outputs": [
        {
          "output_type": "stream",
          "text": [
            "OrderedDict([('learning_rate', 0.1), ('min_child_samples', 10), ('n_estimators', 600), ('num_leaves', 32), ('reg_alpha', 0.0), ('reg_lambda', 0.07934050231726474), ('subsample', 0.75)])\n",
            "0.9793237423244302\n"
          ],
          "name": "stdout"
        }
      ]
    }
  ]
}